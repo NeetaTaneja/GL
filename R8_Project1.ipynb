{
  "nbformat": 4,
  "nbformat_minor": 0,
  "metadata": {
    "accelerator": "GPU",
    "colab": {
      "name": "R8-Project1.ipynb",
      "provenance": [],
      "collapsed_sections": [],
      "include_colab_link": true
    },
    "kernelspec": {
      "display_name": "Python 3",
      "language": "python",
      "name": "python3"
    },
    "language_info": {
      "codemirror_mode": {
        "name": "ipython",
        "version": 3
      },
      "file_extension": ".py",
      "mimetype": "text/x-python",
      "name": "python",
      "nbconvert_exporter": "python",
      "pygments_lexer": "ipython3",
      "version": "3.7.1"
    }
  },
  "cells": [
    {
      "cell_type": "markdown",
      "metadata": {
        "id": "view-in-github",
        "colab_type": "text"
      },
      "source": [
        "<a href=\"https://colab.research.google.com/github/NeetaTaneja/GL/blob/master/R8_Project1.ipynb\" target=\"_parent\"><img src=\"https://colab.research.google.com/assets/colab-badge.svg\" alt=\"Open In Colab\"/></a>"
      ]
    },
    {
      "cell_type": "markdown",
      "metadata": {
        "id": "NFfDTfhlaEI_"
      },
      "source": [
        "# Botanical research"
      ]
    },
    {
      "cell_type": "markdown",
      "metadata": {
        "id": "rNwbqCFRaEJC"
      },
      "source": [
        "* University’s management require an automation which can create a classifier capable of determining a plant's species from a photo\n",
        "* train and compare image classifier models using supervised learning\n",
        "classifier, neural network classifier and a CNN classifier"
      ]
    },
    {
      "cell_type": "markdown",
      "metadata": {
        "id": "5Dnzaw1i5sXF"
      },
      "source": [
        "##  The dataset comprises of images from 12 plant species\n"
      ]
    },
    {
      "cell_type": "markdown",
      "metadata": {
        "id": "bpUULy1Z5sXF"
      },
      "source": [
        "Import the data. Analyse the dimensions of the data. Visualise the data"
      ]
    },
    {
      "cell_type": "code",
      "metadata": {
        "id": "-uw1fGSV4nbR"
      },
      "source": [
        "%tensorflow_version 2.x\n",
        "import tensorflow"
      ],
      "execution_count": 53,
      "outputs": []
    },
    {
      "cell_type": "code",
      "metadata": {
        "id": "KiG7IPhm5sXG"
      },
      "source": [
        "# Initialize the random number generator\n",
        "import random\n",
        "random.seed(0)\n",
        "\n",
        "import warnings\n",
        "warnings.filterwarnings(\"ignore\")"
      ],
      "execution_count": 54,
      "outputs": []
    },
    {
      "cell_type": "code",
      "metadata": {
        "id": "ZqUiJM_Z5sXL",
        "colab": {
          "base_uri": "https://localhost:8080/"
        },
        "outputId": "012dc6e2-1e0f-4e92-cc83-32585a25e308"
      },
      "source": [
        "from google.colab import drive\n",
        "drive.mount('/content/gdrive',force_remount=True)"
      ],
      "execution_count": 55,
      "outputs": [
        {
          "output_type": "stream",
          "text": [
            "Mounted at /content/gdrive\n"
          ],
          "name": "stdout"
        }
      ]
    },
    {
      "cell_type": "code",
      "metadata": {
        "id": "f_Zvf6yDQxY_"
      },
      "source": [
        "project_path = \"/content/gdrive/MyDrive/CNN/Project1\"\n",
        "train_file = \"Dataset - Plant-seedlings-classification.zip\"\n",
        "test_file = \"Dataset - Images.zip\"\n",
        "predictions_file = \"Dataset - Prediction.zip\""
      ],
      "execution_count": 56,
      "outputs": []
    },
    {
      "cell_type": "code",
      "metadata": {
        "id": "10NJueSVQ80x"
      },
      "source": [
        "from zipfile import ZipFile\n",
        "with ZipFile(project_path + \"/\" + train_file,'r') as z:\n",
        "  z.extractall()"
      ],
      "execution_count": 58,
      "outputs": []
    },
    {
      "cell_type": "code",
      "metadata": {
        "id": "r_k32YXESKU0"
      },
      "source": [
        "from zipfile import ZipFile\n",
        "with ZipFile(project_path + \"/\" + test_file,'r') as z:\n",
        "  z.extractall()"
      ],
      "execution_count": 59,
      "outputs": []
    },
    {
      "cell_type": "code",
      "metadata": {
        "id": "hofRNThPVCAp"
      },
      "source": [
        "from zipfile import ZipFile\n",
        "with ZipFile(project_path + \"/\" + predictions_file,'r') as z:\n",
        "  z.extractall()"
      ],
      "execution_count": 60,
      "outputs": []
    },
    {
      "cell_type": "code",
      "metadata": {
        "id": "qtfi39PkWcdp"
      },
      "source": [
        "X = []\n",
        "y = []"
      ],
      "execution_count": 61,
      "outputs": []
    },
    {
      "cell_type": "code",
      "metadata": {
        "id": "JxLq2sTAZ3Fw"
      },
      "source": [
        "#project_path = \"/content\""
      ],
      "execution_count": 62,
      "outputs": []
    },
    {
      "cell_type": "code",
      "metadata": {
        "id": "Qxtyy7cgXcVY"
      },
      "source": [
        "import os\n",
        "os.chdir(project_path)"
      ],
      "execution_count": 63,
      "outputs": []
    },
    {
      "cell_type": "code",
      "metadata": {
        "colab": {
          "base_uri": "https://localhost:8080/"
        },
        "id": "A1SrsxeyXlMk",
        "outputId": "06c8d3ea-c5b7-4c88-a8f1-bb25c740e5dd"
      },
      "source": [
        "os.listdir()"
      ],
      "execution_count": 64,
      "outputs": [
        {
          "output_type": "execute_result",
          "data": {
            "text/plain": [
              "['R8-Project1.ipynb',\n",
              " 'Dataset - Images.zip',\n",
              " 'Dataset - Prediction.zip',\n",
              " 'Dataset - Plant-seedlings-classification.zip',\n",
              " 'Images',\n",
              " 'Prediction',\n",
              " '__MACOSX',\n",
              " 'sample_submission.csv',\n",
              " 'test',\n",
              " 'train']"
            ]
          },
          "metadata": {
            "tags": []
          },
          "execution_count": 64
        }
      ]
    },
    {
      "cell_type": "code",
      "metadata": {
        "id": "bTuHxRFgZe2q"
      },
      "source": [
        "os.chdir(project_path + '/train')"
      ],
      "execution_count": 65,
      "outputs": []
    },
    {
      "cell_type": "code",
      "metadata": {
        "colab": {
          "base_uri": "https://localhost:8080/"
        },
        "id": "VyYF7V4xZiXF",
        "outputId": "f2a06a1c-26dc-4fa0-c15d-313d9596524d"
      },
      "source": [
        "os.listdir()"
      ],
      "execution_count": 66,
      "outputs": [
        {
          "output_type": "execute_result",
          "data": {
            "text/plain": [
              "['Black-grass',\n",
              " 'Charlock',\n",
              " 'Cleavers',\n",
              " 'Common Chickweed',\n",
              " 'Common wheat',\n",
              " 'Fat Hen',\n",
              " 'Loose Silky-bent',\n",
              " 'Maize',\n",
              " 'Scentless Mayweed',\n",
              " 'Shepherds Purse',\n",
              " 'Small-flowered Cranesbill',\n",
              " 'Sugar beet']"
            ]
          },
          "metadata": {
            "tags": []
          },
          "execution_count": 66
        }
      ]
    },
    {
      "cell_type": "code",
      "metadata": {
        "id": "AcYucGh_Zxmj"
      },
      "source": [
        "import cv2"
      ],
      "execution_count": 67,
      "outputs": []
    },
    {
      "cell_type": "markdown",
      "metadata": {
        "id": "3IhU93xnb0KI"
      },
      "source": [
        "#### Import the train data, resize it to 128*128, store it in x_train,y_train"
      ]
    },
    {
      "cell_type": "code",
      "metadata": {
        "id": "Dr8HoIEpZkRx"
      },
      "source": [
        "for i in os.listdir():\n",
        "  #print(i)\n",
        "  for j in os.listdir(i):\n",
        "    file_name = project_path + \"/train\" + \"/\" + i + \"/\" + j\n",
        "    #print(file_name)\n",
        "    temp = cv2.imread(file_name)\n",
        "    temp = cv2.resize(temp, (128,128))\n",
        "    X.append(temp)\n",
        "    y.append(i)"
      ],
      "execution_count": 68,
      "outputs": []
    },
    {
      "cell_type": "markdown",
      "metadata": {
        "id": "uOT_T0XUcAqu"
      },
      "source": [
        "#### Import the test data, resize it to 128*128, store it in x_test,y_test"
      ]
    },
    {
      "cell_type": "code",
      "metadata": {
        "id": "q3IuWM4ocNEQ"
      },
      "source": [
        "os.chdir(project_path + '/test')\n",
        "x_predict = []"
      ],
      "execution_count": 69,
      "outputs": []
    },
    {
      "cell_type": "code",
      "metadata": {
        "colab": {
          "base_uri": "https://localhost:8080/"
        },
        "id": "NEnXyF8HcQxs",
        "outputId": "8d325343-b8db-46a7-f067-273a7d556210"
      },
      "source": [
        "os.listdir()"
      ],
      "execution_count": 70,
      "outputs": [
        {
          "output_type": "execute_result",
          "data": {
            "text/plain": [
              "['0021e90e4.png',\n",
              " '003d61042.png',\n",
              " '007b3da8b.png',\n",
              " '0086a6340.png',\n",
              " '00c47e980.png',\n",
              " '00d090cde.png',\n",
              " '00ef713a8.png',\n",
              " '01291174f.png',\n",
              " '026716f9b.png',\n",
              " '02cfeb38d.png',\n",
              " '03566743d.png',\n",
              " '03a2ee656.png',\n",
              " '03e322a29.png',\n",
              " '03ef36742.png',\n",
              " '043449b0b.png',\n",
              " '0437393b1.png',\n",
              " '04814f36d.png',\n",
              " '05341a8a6.png',\n",
              " '060450d79.png',\n",
              " '060f1dc84.png',\n",
              " '0625f063b.png',\n",
              " '063363305.png',\n",
              " '06d12f6fa.png',\n",
              " '071cb3ece.png',\n",
              " '0751c0bbc.png',\n",
              " '07e62f903.png',\n",
              " '085974290.png',\n",
              " '0885e7690.png',\n",
              " '089ad62a7.png',\n",
              " '08d591441.png',\n",
              " '0911d3dee.png',\n",
              " '099b961ec.png',\n",
              " '0a64e3e6c.png',\n",
              " '0ad9e7dfb.png',\n",
              " '0ae6668fa.png',\n",
              " '0bf7bfb05.png',\n",
              " '0c27cf05f.png',\n",
              " '0c4199daa.png',\n",
              " '0c45ace27.png',\n",
              " '0c51bf229.png',\n",
              " '0c5f6c493.png',\n",
              " '0caeda5df.png',\n",
              " '0d117d910.png',\n",
              " '0d31e6602.png',\n",
              " '0dba99002.png',\n",
              " '0e8492cb1.png',\n",
              " '0ebf8f2f4.png',\n",
              " '0ee4ad224.png',\n",
              " '0f6cbe5e8.png',\n",
              " '0fb233ad6.png',\n",
              " '115f93ecc.png',\n",
              " '116b136de.png',\n",
              " '1191ba346.png',\n",
              " '11d3f68ff.png',\n",
              " '122913909.png',\n",
              " '12625488b.png',\n",
              " '126a71ce0.png',\n",
              " '1312065a5.png',\n",
              " '1364b297a.png',\n",
              " '1376f3b63.png',\n",
              " '13b9fa92d.png',\n",
              " '1459e96a0.png',\n",
              " '148bbda66.png',\n",
              " '14bb43eee.png',\n",
              " '1541bdb2e.png',\n",
              " '1623fb9e1.png',\n",
              " '16357b436.png',\n",
              " '16467a950.png',\n",
              " '165681fd9.png',\n",
              " '1694a70e4.png',\n",
              " '16fd2e01a.png',\n",
              " '172f9b10b.png',\n",
              " '17529c555.png',\n",
              " '1758a1baf.png',\n",
              " '177d7e2a4.png',\n",
              " '17a78fb44.png',\n",
              " '17d5e5ac4.png',\n",
              " '1821eb11a.png',\n",
              " '187668bde.png',\n",
              " '1926e82fd.png',\n",
              " '19618ad6a.png',\n",
              " '19b51843a.png',\n",
              " '19e58cc5e.png',\n",
              " '19fdf19fb.png',\n",
              " '1b490196c.png',\n",
              " '1b6a6494d.png',\n",
              " '1be0713da.png',\n",
              " '1bf9b94a6.png',\n",
              " '1c52ea820.png',\n",
              " '1c680883c.png',\n",
              " '1cfd91582.png',\n",
              " '1d0cbd819.png',\n",
              " '1d321253f.png',\n",
              " '1d48b7564.png',\n",
              " '1d56351b2.png',\n",
              " '1dc7c45df.png',\n",
              " '1e095a7e1.png',\n",
              " '1f290e016.png',\n",
              " '1f3f44563.png',\n",
              " '1f5e5554e.png',\n",
              " '1fefb54b7.png',\n",
              " '205df1df3.png',\n",
              " '20817c846.png',\n",
              " '20e562fd5.png',\n",
              " '20ea96bcc.png',\n",
              " '20f983a71.png',\n",
              " '2126dc71b.png',\n",
              " '219fd68d5.png',\n",
              " '223e4af09.png',\n",
              " '22e79540f.png',\n",
              " '22fbf13d6.png',\n",
              " '239bdf640.png',\n",
              " '23bc8ec4f.png',\n",
              " '23e480e64.png',\n",
              " '2406d6c99.png',\n",
              " '241e6935a.png',\n",
              " '248436078.png',\n",
              " '24a058589.png',\n",
              " '24c94a6ca.png',\n",
              " '24d36c52c.png',\n",
              " '24d78df74.png',\n",
              " '24dbc3b21.png',\n",
              " '258b1183c.png',\n",
              " '25a4c427e.png',\n",
              " '25cf6eb73.png',\n",
              " '25fa8d109.png',\n",
              " '26852751a.png',\n",
              " '2693e5c65.png',\n",
              " '26e7ae885.png',\n",
              " '270b939cf.png',\n",
              " '279df95f2.png',\n",
              " '288564c76.png',\n",
              " '29bab7cad.png',\n",
              " '29ce426a1.png',\n",
              " '29f49cd0b.png',\n",
              " '2a5064f19.png',\n",
              " '2a667e099.png',\n",
              " '2b55a2da2.png',\n",
              " '2bd74d2da.png',\n",
              " '2d5058a59.png',\n",
              " '2d992d1fb.png',\n",
              " '2d9c798f9.png',\n",
              " '2dd5cfba9.png',\n",
              " '2df78338c.png',\n",
              " '2e86f1085.png',\n",
              " '2ea664465.png',\n",
              " '2f0004a7f.png',\n",
              " '2f246d688.png',\n",
              " '2ff5cb348.png',\n",
              " '30ad31220.png',\n",
              " '3185294c8.png',\n",
              " '31f3dd81f.png',\n",
              " '31fcdc161.png',\n",
              " '3281183f9.png',\n",
              " '32a8c8a1d.png',\n",
              " '32b42c120.png',\n",
              " '32c86784b.png',\n",
              " '33317fc2a.png',\n",
              " '33448fe39.png',\n",
              " '33748968f.png',\n",
              " '338c7e907.png',\n",
              " '34dd57ca9.png',\n",
              " '3526b05cc.png',\n",
              " '35a90f8d0.png',\n",
              " '35cf9fa01.png',\n",
              " '35ebe165c.png',\n",
              " '36839d5e9.png',\n",
              " '36d62bf36.png',\n",
              " '36ed4f215.png',\n",
              " '37297a64c.png',\n",
              " '37714071b.png',\n",
              " '377283a21.png',\n",
              " '37c3108d6.png',\n",
              " '37e545a60.png',\n",
              " '3827436f3.png',\n",
              " '38c054379.png',\n",
              " '391dcd7fd.png',\n",
              " '39858776a.png',\n",
              " '39b740f7e.png',\n",
              " '39c8fde99.png',\n",
              " '39d569be4.png',\n",
              " '3a909ead8.png',\n",
              " '3abb502fb.png',\n",
              " '3b73c3b61.png',\n",
              " '3bbef3ecb.png',\n",
              " '3d38a87bc.png',\n",
              " '3d65168c2.png',\n",
              " '3d67c434b.png',\n",
              " '3da774107.png',\n",
              " '3dd52bd2a.png',\n",
              " '3e9f41817.png',\n",
              " '3ebbe9ca4.png',\n",
              " '3eda9cbb6.png',\n",
              " '3edf5e9ef.png',\n",
              " '3eebd36c6.png',\n",
              " '3efa1f66c.png',\n",
              " '3f64c2c1b.png',\n",
              " '3f826b318.png',\n",
              " '3f92d8039.png',\n",
              " '3fbd0fc6a.png',\n",
              " '3fbf1a417.png',\n",
              " '4049a6ea6.png',\n",
              " '406162ef9.png',\n",
              " '406ecb5c5.png',\n",
              " '410e6f702.png',\n",
              " '41e07778c.png',\n",
              " '41f1c3cdb.png',\n",
              " '4287d810c.png',\n",
              " '429211ee6.png',\n",
              " '42e7ed442.png',\n",
              " '4392d93cf.png',\n",
              " '43ede9de9.png',\n",
              " '444473900.png',\n",
              " '446f7da01.png',\n",
              " '44e8b8833.png',\n",
              " '456d507c0.png',\n",
              " '466bb6d3b.png',\n",
              " '46c14fde2.png',\n",
              " '47b7d8e17.png',\n",
              " '47f9e5d91.png',\n",
              " '48231e475.png',\n",
              " '4823c3ffa.png',\n",
              " '486e59179.png',\n",
              " '48d97c645.png',\n",
              " '48ef6a2ff.png',\n",
              " '490c4f9c8.png',\n",
              " '4a337a4a9.png',\n",
              " '4ac29bbf0.png',\n",
              " '4b032563b.png',\n",
              " '4b155fb07.png',\n",
              " '4bbf1f6ea.png',\n",
              " '4bbfd1e05.png',\n",
              " '4bcdaa5e2.png',\n",
              " '4c5ab9b68.png',\n",
              " '4c7838de4.png',\n",
              " '4c8005bbc.png',\n",
              " '4e1190d78.png',\n",
              " '4e18ab737.png',\n",
              " '4e69d100a.png',\n",
              " '4e9d3765f.png',\n",
              " '4ea7493d5.png',\n",
              " '4f44ca525.png',\n",
              " '4f83143e1.png',\n",
              " '502dff972.png',\n",
              " '506347cfe.png',\n",
              " '50de8a115.png',\n",
              " '521b27a17.png',\n",
              " '523e5505c.png',\n",
              " '5296835a0.png',\n",
              " '52a87abe5.png',\n",
              " '52dc7a4d6.png',\n",
              " '5315c2dca.png',\n",
              " '534e74d83.png',\n",
              " '539961189.png',\n",
              " '53ceb4657.png',\n",
              " '53e6e9000.png',\n",
              " '54b3afd58.png',\n",
              " '54c8bb900.png',\n",
              " '550a8b7e6.png',\n",
              " '55251925f.png',\n",
              " '558aa7deb.png',\n",
              " '55920f07f.png',\n",
              " '55a852f40.png',\n",
              " '55fed435f.png',\n",
              " '56112b92c.png',\n",
              " '56a01b835.png',\n",
              " '5779fe8b4.png',\n",
              " '5817b766d.png',\n",
              " '5883b423d.png',\n",
              " '589e643b8.png',\n",
              " '590f5aea6.png',\n",
              " '592473c83.png',\n",
              " '592cc5b89.png',\n",
              " '59358cd44.png',\n",
              " '593896f83.png',\n",
              " '599691cd9.png',\n",
              " '599c82eea.png',\n",
              " '59b2c6f2b.png',\n",
              " '59c6a9f95.png',\n",
              " '59e1cea8d.png',\n",
              " '59f62ad1d.png',\n",
              " '5a38ac566.png',\n",
              " '5a6bf96f6.png',\n",
              " '5af1d74ee.png',\n",
              " '5b3000b9a.png',\n",
              " '5b3beec58.png',\n",
              " '5b63dcc21.png',\n",
              " '5bbc0a255.png',\n",
              " '5bc6595f6.png',\n",
              " '5bd71f445.png',\n",
              " '5bdcfa329.png',\n",
              " '5c3cd7ea2.png',\n",
              " '5ca0205f9.png',\n",
              " '5ca2687a4.png',\n",
              " '5dcad9a53.png',\n",
              " '5e6a237f2.png',\n",
              " '5eb9c26a6.png',\n",
              " '5ee9d0a5b.png',\n",
              " '5f04aed97.png',\n",
              " '6049234e6.png',\n",
              " '604dd663f.png',\n",
              " '606647f64.png',\n",
              " '60ee66ddd.png',\n",
              " '60f0bc617.png',\n",
              " '60fea2ef6.png',\n",
              " '615d2b0a9.png',\n",
              " '618de3d7a.png',\n",
              " '61b044411.png',\n",
              " '61dd2cdc5.png',\n",
              " '632156793.png',\n",
              " '63c07d340.png',\n",
              " '647689543.png',\n",
              " '64fe8beb9.png',\n",
              " '653193c1a.png',\n",
              " '65489944f.png',\n",
              " '659412b1a.png',\n",
              " '65d08b894.png',\n",
              " '65e262a6d.png',\n",
              " '65e97117e.png',\n",
              " '664194d19.png',\n",
              " '6680836dd.png',\n",
              " '668c1007c.png',\n",
              " '66ab0e8d0.png',\n",
              " '675ec1b0b.png',\n",
              " '67ce3eaa6.png',\n",
              " '67e185673.png',\n",
              " '686dc7ec8.png',\n",
              " '6908fb540.png',\n",
              " '6982a9d30.png',\n",
              " '699d3c707.png',\n",
              " '69d1669f8.png',\n",
              " '6a41bf95b.png',\n",
              " '6a47821f9.png',\n",
              " '6b721f68e.png',\n",
              " '6b9d6f8c9.png',\n",
              " '6ba4ef411.png',\n",
              " '6bce55e05.png',\n",
              " '6be169e41.png',\n",
              " '6c874918c.png',\n",
              " '6d6eb3830.png',\n",
              " '6da892be6.png',\n",
              " '6db684fff.png',\n",
              " '6dd095129.png',\n",
              " '6df8e31ea.png',\n",
              " '6edb96d45.png',\n",
              " '6edc76e7c.png',\n",
              " '711b46fba.png',\n",
              " '71334c634.png',\n",
              " '71b232519.png',\n",
              " '71e73a8a0.png',\n",
              " '71f5323c5.png',\n",
              " '721b2c47a.png',\n",
              " '721be0a4a.png',\n",
              " '728eabae1.png',\n",
              " '73260a4ee.png',\n",
              " '74068643d.png',\n",
              " '74d810f87.png',\n",
              " '74fd477eb.png',\n",
              " '7506c0c02.png',\n",
              " '752101fdf.png',\n",
              " '754b1adf8.png',\n",
              " '756dd5070.png',\n",
              " '75cb95e91.png',\n",
              " '7615e52d3.png',\n",
              " '76555b064.png',\n",
              " '7691014a1.png',\n",
              " '7696badea.png',\n",
              " '76dbd1054.png',\n",
              " '770a265f5.png',\n",
              " '77ccb8b2a.png',\n",
              " '780bd2a2c.png',\n",
              " '780defa2e.png',\n",
              " '785a73ab8.png',\n",
              " '78750e0ff.png',\n",
              " '78b1bf91a.png',\n",
              " '78c5fba1d.png',\n",
              " '79d93bc96.png',\n",
              " '79dafec17.png',\n",
              " '79e5ea8fa.png',\n",
              " '79fba50db.png',\n",
              " '7a38416be.png',\n",
              " '7b21ba6ba.png',\n",
              " '7b52585da.png',\n",
              " '7beb2766f.png',\n",
              " '7c85b0265.png',\n",
              " '7cabd68cc.png',\n",
              " '7d22abf91.png',\n",
              " '7d3045fc3.png',\n",
              " '7d4cd07ad.png',\n",
              " '7e9cf1c46.png',\n",
              " '7f31c7f42.png',\n",
              " '7f46a71db.png',\n",
              " '7f9e9565d.png',\n",
              " '7fdb7202d.png',\n",
              " '800a8c17e.png',\n",
              " '808578ed5.png',\n",
              " '808cf55c6.png',\n",
              " '809eb0b82.png',\n",
              " '80e299ae9.png',\n",
              " '8104422bb.png',\n",
              " '8170d33c1.png',\n",
              " '824f5d4e5.png',\n",
              " '827279bad.png',\n",
              " '82b5f4d33.png',\n",
              " '8301b0547.png',\n",
              " '8303b27ed.png',\n",
              " '8311740de.png',\n",
              " '835dc5447.png',\n",
              " '837ac0270.png',\n",
              " '8455169fe.png',\n",
              " '851c90831.png',\n",
              " '85431c075.png',\n",
              " '855955aaf.png',\n",
              " '856f2910a.png',\n",
              " '8585f9718.png',\n",
              " '862b8e7a0.png',\n",
              " '86676d627.png',\n",
              " '866be78b0.png',\n",
              " '86c309150.png',\n",
              " '86f08e6d1.png',\n",
              " '87608f7aa.png',\n",
              " '87f627bf9.png',\n",
              " '8874bba69.png',\n",
              " '88ac6df54.png',\n",
              " '88d8a4508.png',\n",
              " '8916793ce.png',\n",
              " '892e9d6c6.png',\n",
              " '897e5a8de.png',\n",
              " '8a30b2de3.png',\n",
              " '8a32d0bfa.png',\n",
              " '8a4d3a1b1.png',\n",
              " '8a8d6c712.png',\n",
              " '8ab8a958b.png',\n",
              " '8b043093d.png',\n",
              " '8b27bfd2b.png',\n",
              " '8b9144917.png',\n",
              " '8bc0261c9.png',\n",
              " '8c98a6e9b.png',\n",
              " '8c9953903.png',\n",
              " '8ca6140ca.png',\n",
              " '8cf2e3e6c.png',\n",
              " '8cf909eb3.png',\n",
              " '8cfd98117.png',\n",
              " '8d6991365.png',\n",
              " '8d6acbe9b.png',\n",
              " '8db450ce3.png',\n",
              " '8dbb8e1b9.png',\n",
              " '8e29abce1.png',\n",
              " '8e2e5604e.png',\n",
              " '8e3ed0a25.png',\n",
              " '8e4eaeec0.png',\n",
              " '8e6ec1ca6.png',\n",
              " '8ece6efec.png',\n",
              " '8f523520c.png',\n",
              " '8faadb6a8.png',\n",
              " '90b595f12.png',\n",
              " '90d119d25.png',\n",
              " '91e469b4a.png',\n",
              " '92292055d.png',\n",
              " '93079d970.png',\n",
              " '9326bda1b.png',\n",
              " '93d76fd5d.png',\n",
              " '948cdb277.png',\n",
              " '9516e56c4.png',\n",
              " '953496deb.png',\n",
              " '958bb9e96.png',\n",
              " '963544aa0.png',\n",
              " '9643fc5f4.png',\n",
              " '966ae5ad9.png',\n",
              " '969a851be.png',\n",
              " '96ecad7a1.png',\n",
              " '96f14d90c.png',\n",
              " '974959ec1.png',\n",
              " '976e4e079.png',\n",
              " '97844bfd5.png',\n",
              " '97b2f0a10.png',\n",
              " '98062cd87.png',\n",
              " '98d819587.png',\n",
              " '98da6ef4e.png',\n",
              " '99036c51d.png',\n",
              " '99569b224.png',\n",
              " '995c7ab1e.png',\n",
              " '9a3f20121.png',\n",
              " '9aa5587fe.png',\n",
              " '9b4800b42.png',\n",
              " '9b9911f20.png',\n",
              " '9baf94467.png',\n",
              " '9c0c5b731.png',\n",
              " '9c32a797e.png',\n",
              " '9c777333d.png',\n",
              " '9c8b08a24.png',\n",
              " '9cce7328c.png',\n",
              " '9d3cb4745.png',\n",
              " '9d79a1f0c.png',\n",
              " '9df3275da.png',\n",
              " '9fab816f2.png',\n",
              " 'a006a475c.png',\n",
              " 'a060c1cf8.png',\n",
              " 'a0b393945.png',\n",
              " 'a0f37c726.png',\n",
              " 'a169b71e7.png',\n",
              " 'a19c3faca.png',\n",
              " 'a1da8be3c.png',\n",
              " 'a1e0a6c02.png',\n",
              " 'a254d71f6.png',\n",
              " 'a276c65f7.png',\n",
              " 'a2b703e21.png',\n",
              " 'a2c89c367.png',\n",
              " 'a2d25b4f3.png',\n",
              " 'a35fd6fbb.png',\n",
              " 'a38b8a581.png',\n",
              " 'a3b375b34.png',\n",
              " 'a3d0031fd.png',\n",
              " 'a4b61a4ea.png',\n",
              " 'a544fc46d.png',\n",
              " 'a55d26a4c.png',\n",
              " 'a5db42f7d.png',\n",
              " 'a74bf916d.png',\n",
              " 'a74d475c2.png',\n",
              " 'a7bd7cadb.png',\n",
              " 'a800caead.png',\n",
              " 'a83820a2c.png',\n",
              " 'a8388a37f.png',\n",
              " 'a85b48a95.png',\n",
              " 'a85fc8c9a.png',\n",
              " 'a890ac088.png',\n",
              " 'a8b431a3e.png',\n",
              " 'a8c8a1db0.png',\n",
              " 'a8da9c08d.png',\n",
              " 'a8de7c1b7.png',\n",
              " 'a935ca110.png',\n",
              " 'a93f940d6.png',\n",
              " 'a9d2eab61.png',\n",
              " 'aa7d098d1.png',\n",
              " 'aad8375e0.png',\n",
              " 'aaf4da98f.png',\n",
              " 'ab0f67743.png',\n",
              " 'ab35453cb.png',\n",
              " 'abc331628.png',\n",
              " 'abf8b0772.png',\n",
              " 'ac3193f78.png',\n",
              " 'ac75d3326.png',\n",
              " 'acdb75e00.png',\n",
              " 'ace8761dd.png',\n",
              " 'ad12382d4.png',\n",
              " 'adb7a032c.png',\n",
              " 'ae90f2827.png',\n",
              " 'aecfaed64.png',\n",
              " 'aee6fa3df.png',\n",
              " 'af45e222a.png',\n",
              " 'afa446484.png',\n",
              " 'afcf6abd5.png',\n",
              " 'b026bf8ca.png',\n",
              " 'b03397525.png',\n",
              " 'b0acaff4a.png',\n",
              " 'b130a0632.png',\n",
              " 'b145ba9d4.png',\n",
              " 'b1cd2a91e.png',\n",
              " 'b215531dd.png',\n",
              " 'b2706e2b3.png',\n",
              " 'b29339405.png',\n",
              " 'b30ab4659.png',\n",
              " 'b31292706.png',\n",
              " 'b341d0aab.png',\n",
              " 'b39c71707.png',\n",
              " 'b3d6fdb80.png',\n",
              " 'b3e08b037.png',\n",
              " 'b47691c08.png',\n",
              " 'b4c3df835.png',\n",
              " 'b4f7c9214.png',\n",
              " 'b573b7a56.png',\n",
              " 'b5c7fd009.png',\n",
              " 'b62dca166.png',\n",
              " 'b687160f5.png',\n",
              " 'b6a3f7876.png',\n",
              " 'b6f3d8b5d.png',\n",
              " 'b7192c70f.png',\n",
              " 'b7a7f6390.png',\n",
              " 'b7ad92859.png',\n",
              " 'b828443ff.png',\n",
              " 'b9062c1c8.png',\n",
              " 'b944a49ca.png',\n",
              " 'b98327bf4.png',\n",
              " 'ba3ce6b3e.png',\n",
              " 'bb1c84bbc.png',\n",
              " 'bb1d1bfd3.png',\n",
              " 'bb20fce02.png',\n",
              " 'bb64660b7.png',\n",
              " 'bb7621cb3.png',\n",
              " 'bd72d4d8a.png',\n",
              " 'bd789d151.png',\n",
              " 'bdde957ec.png',\n",
              " 'be2499cf4.png',\n",
              " 'be341dbdc.png',\n",
              " 'bea23d9f8.png',\n",
              " 'bebcaab66.png',\n",
              " 'beebe5f4e.png',\n",
              " 'bf3924a57.png',\n",
              " 'bf66b9cd2.png',\n",
              " 'bfab3e3d0.png',\n",
              " 'bffc08672.png',\n",
              " 'c0461776c.png',\n",
              " 'c069fc3fa.png',\n",
              " 'c06e7c748.png',\n",
              " 'c0bc3997b.png',\n",
              " 'c0d9e170b.png',\n",
              " 'c0f5d9ac8.png',\n",
              " 'c10ccbd82.png',\n",
              " 'c10db7ae2.png',\n",
              " 'c1ecff98b.png',\n",
              " 'c26ccf73c.png',\n",
              " 'c2de6020a.png',\n",
              " 'c35efa095.png',\n",
              " 'c4ed8ed38.png',\n",
              " 'c50335991.png',\n",
              " 'c5078bac5.png',\n",
              " 'c5e419015.png',\n",
              " 'c5e88cd42.png',\n",
              " 'c60e91e07.png',\n",
              " 'c63da993b.png',\n",
              " 'c64370a72.png',\n",
              " 'c6b76307d.png',\n",
              " 'c6c8d4ba0.png',\n",
              " 'c7051c902.png',\n",
              " 'c74c5b7fc.png',\n",
              " 'c75a82234.png',\n",
              " 'c7ae30f3a.png',\n",
              " 'c7b07431e.png',\n",
              " 'c7eb96871.png',\n",
              " 'c832e4302.png',\n",
              " 'c85ef220d.png',\n",
              " 'c88ebfb47.png',\n",
              " 'c8f50f0c3.png',\n",
              " 'caa2fbd79.png',\n",
              " 'cadab6616.png',\n",
              " 'cae684f8f.png',\n",
              " 'cb496f36e.png',\n",
              " 'cb76a7766.png',\n",
              " 'cbba27d89.png',\n",
              " 'cbe761896.png',\n",
              " 'cc3d2a59a.png',\n",
              " 'cc74feadc.png',\n",
              " 'cd5f0db1c.png',\n",
              " 'cd6adba97.png',\n",
              " 'ce15eee52.png',\n",
              " 'ce3d280eb.png',\n",
              " 'ce42adffb.png',\n",
              " 'cec5bf198.png',\n",
              " 'cf3a8b2fd.png',\n",
              " 'cf46d09c5.png',\n",
              " 'cf90fc52d.png',\n",
              " 'cfb18d262.png',\n",
              " 'cfd8165e9.png',\n",
              " 'd0152bd7c.png',\n",
              " 'd01873fdd.png',\n",
              " 'd09275360.png',\n",
              " 'd09d24c58.png',\n",
              " 'd0cdc768f.png',\n",
              " 'd102e1a15.png',\n",
              " 'd14aa43f3.png',\n",
              " 'd17f48d3b.png',\n",
              " 'd2f0f326e.png',\n",
              " 'd2f422ccb.png',\n",
              " 'd2fd9df40.png',\n",
              " 'd3331e071.png',\n",
              " 'd350a25fa.png',\n",
              " 'd41d87796.png',\n",
              " 'd488a4fe1.png',\n",
              " 'd515398fd.png',\n",
              " 'd563be369.png',\n",
              " 'd5f7dd60a.png',\n",
              " 'd668409ff.png',\n",
              " 'd689256be.png',\n",
              " 'd6c8c3c48.png',\n",
              " 'd6d31dcbe.png',\n",
              " 'd6d80a321.png',\n",
              " 'd7017f701.png',\n",
              " 'd84d37a61.png',\n",
              " 'd89db156f.png',\n",
              " 'd8f4923f8.png',\n",
              " 'd93c7ab6d.png',\n",
              " 'd9c50616e.png',\n",
              " 'da231c97f.png',\n",
              " 'da4ed3a28.png',\n",
              " 'da5255450.png',\n",
              " 'da713c465.png',\n",
              " 'da9ef7858.png',\n",
              " 'dabe3e5be.png',\n",
              " 'dabea05f4.png',\n",
              " 'dc4cd56a3.png',\n",
              " 'dc55449b2.png',\n",
              " 'dcd7ff249.png',\n",
              " 'dce2f6612.png',\n",
              " 'dd5ec63d9.png',\n",
              " 'dd9f36df7.png',\n",
              " 'de0b79659.png',\n",
              " 'df11d56a7.png',\n",
              " 'df521c0c0.png',\n",
              " 'df7cb5f87.png',\n",
              " 'dfb1d9012.png',\n",
              " 'e0ec5b6a1.png',\n",
              " 'e14afa235.png',\n",
              " 'e15472085.png',\n",
              " 'e15fce4f2.png',\n",
              " 'e1809cef2.png',\n",
              " 'e19673dc9.png',\n",
              " 'e19ad6ac9.png',\n",
              " 'e1a0e3202.png',\n",
              " 'e1abb4ff9.png',\n",
              " 'e3f50adfc.png',\n",
              " 'e471f1d3a.png',\n",
              " 'e478c452c.png',\n",
              " 'e4a76885b.png',\n",
              " 'e4d5ec761.png',\n",
              " 'e5064f6be.png',\n",
              " 'e52493d0b.png',\n",
              " 'e5297b675.png',\n",
              " 'e5368474f.png',\n",
              " 'e5881dd33.png',\n",
              " 'e5e3dccff.png',\n",
              " 'e6f1211a2.png',\n",
              " 'e7077322d.png',\n",
              " 'e721c6ac8.png',\n",
              " 'e73e308be.png',\n",
              " 'e783f5a4f.png',\n",
              " 'e80a259c5.png',\n",
              " 'e82017baa.png',\n",
              " 'e84464f5a.png',\n",
              " 'e88bf0db9.png',\n",
              " 'e901b0f28.png',\n",
              " 'e921021a8.png',\n",
              " 'e96e57a90.png',\n",
              " 'e98e5d1d5.png',\n",
              " 'e9cd91682.png',\n",
              " 'e9d48d664.png',\n",
              " 'eaf0815e2.png',\n",
              " 'ec08a5d56.png',\n",
              " 'ede6b84b4.png',\n",
              " 'edfdb4aeb.png',\n",
              " 'eec1079a1.png',\n",
              " 'eef131644.png',\n",
              " 'ef02b4ee7.png',\n",
              " 'ef3e232ad.png',\n",
              " 'ef65533d5.png',\n",
              " 'ef74dbcad.png',\n",
              " 'ef7a5651d.png',\n",
              " 'ef9676433.png',\n",
              " 'efe19dc32.png',\n",
              " 'f0ffa00bd.png',\n",
              " 'f1e87cba7.png',\n",
              " 'f1f7c833f.png',\n",
              " 'f23faf9c1.png',\n",
              " 'f25996db8.png',\n",
              " 'f2dc546ca.png',\n",
              " 'f33e9d918.png',\n",
              " 'f351ce097.png',\n",
              " 'f3fcfff1b.png',\n",
              " 'f4021df6c.png',\n",
              " 'f4234cf4f.png',\n",
              " 'f445fe6fb.png',\n",
              " 'f48916a8c.png',\n",
              " 'f4ad9d950.png',\n",
              " 'f4caf74f9.png',\n",
              " 'f4e7733d4.png',\n",
              " 'f593c9cf0.png',\n",
              " 'f66ae4070.png',\n",
              " 'f6d250856.png',\n",
              " 'f8318faf1.png',\n",
              " 'f85ed9b6d.png',\n",
              " 'f9b6bfb00.png',\n",
              " 'f9ea23fb5.png',\n",
              " 'f9f35cbd4.png',\n",
              " 'fa5fd1384.png',\n",
              " 'fa9f3a8f9.png',\n",
              " 'fadc6adbc.png',\n",
              " 'fb022edf9.png',\n",
              " 'fba8fc78a.png',\n",
              " 'fbf88b6be.png',\n",
              " 'fc3e58836.png',\n",
              " 'fc6f686fb.png',\n",
              " 'fd253a74e.png',\n",
              " 'fd87b36ae.png',\n",
              " 'fd925f542.png',\n",
              " 'fda0b5c38.png',\n",
              " 'fda39e16f.png',\n",
              " 'fdea6b119.png',\n",
              " 'fe29629fb.png',\n",
              " 'fe9e87b78.png',\n",
              " 'fea1d13d6.png',\n",
              " 'fea355851.png',\n",
              " 'fea3da57c.png',\n",
              " 'fef2ade8c.png',\n",
              " 'ff65bc002.png',\n",
              " 'ffc6f8527.png']"
            ]
          },
          "metadata": {
            "tags": []
          },
          "execution_count": 70
        }
      ]
    },
    {
      "cell_type": "code",
      "metadata": {
        "id": "-35NNHKocV0n"
      },
      "source": [
        "for i in os.listdir():\n",
        "  #print(i)\n",
        "  file_name = project_path + \"/test\" + \"/\" + i\n",
        "  #print(file_name)\n",
        "  temp = cv2.imread(file_name)\n",
        "  temp = cv2.resize(temp, (128,128))\n",
        "  x_predict.append(temp)"
      ],
      "execution_count": 72,
      "outputs": []
    },
    {
      "cell_type": "code",
      "metadata": {
        "colab": {
          "base_uri": "https://localhost:8080/"
        },
        "id": "fBJ09aSEg-X_",
        "outputId": "d5a424aa-a8ff-43a8-98bb-2dd0320ed892"
      },
      "source": [
        "print(\"Number of images in X = \",len(X))\n",
        "print(\"Shape of each image in X \", X[0].shape)"
      ],
      "execution_count": 89,
      "outputs": [
        {
          "output_type": "stream",
          "text": [
            "Number of images in X =  4750\n",
            "Shape of each image in X  (128, 128, 3)\n"
          ],
          "name": "stdout"
        }
      ]
    },
    {
      "cell_type": "markdown",
      "metadata": {
        "id": "6VAPTSzrkYnd"
      },
      "source": [
        "#### Visualize a few elements and their labels"
      ]
    },
    {
      "cell_type": "code",
      "metadata": {
        "colab": {
          "base_uri": "https://localhost:8080/",
          "height": 302
        },
        "id": "97QFabHpgOMd",
        "outputId": "709d79cd-bb46-4ec0-e654-d6393c396168"
      },
      "source": [
        "import matplotlib.pyplot as plt\n",
        "%matplotlib inline\n",
        "print(\"Label: {}\".format(y[100]))\n",
        "plt.imshow(X[100], cmap='gray')"
      ],
      "execution_count": 93,
      "outputs": [
        {
          "output_type": "stream",
          "text": [
            "Label: Black-grass\n"
          ],
          "name": "stdout"
        },
        {
          "output_type": "execute_result",
          "data": {
            "text/plain": [
              "<matplotlib.image.AxesImage at 0x7f6d515c7990>"
            ]
          },
          "metadata": {
            "tags": []
          },
          "execution_count": 93
        },
        {
          "output_type": "display_data",
          "data": {
            "image/png": "[encoded data removed]",
            "text/plain": [
              "<Figure size 432x288 with 1 Axes>"
            ]
          },
          "metadata": {
            "tags": [],
            "needs_background": "light"
          }
        }
      ]
    },
    {
      "cell_type": "code",
      "metadata": {
        "colab": {
          "base_uri": "https://localhost:8080/",
          "height": 302
        },
        "id": "NvLdGOBekdWh",
        "outputId": "5142a085-cefd-4018-f19d-8970a9eb6459"
      },
      "source": [
        "print(\"Label: {}\".format(y[1000]))\n",
        "plt.imshow(X[1000], cmap='gray')"
      ],
      "execution_count": 94,
      "outputs": [
        {
          "output_type": "stream",
          "text": [
            "Label: Common Chickweed\n"
          ],
          "name": "stdout"
        },
        {
          "output_type": "execute_result",
          "data": {
            "text/plain": [
              "<matplotlib.image.AxesImage at 0x7f6d513f4b90>"
            ]
          },
          "metadata": {
            "tags": []
          },
          "execution_count": 94
        },
        {
          "output_type": "display_data",
          "data": {
            "image/png": "[encoded data removed]",
            "text/plain": [
              "<Figure size 432x288 with 1 Axes>"
            ]
          },
          "metadata": {
            "tags": [],
            "needs_background": "light"
          }
        }
      ]
    },
    {
      "cell_type": "code",
      "metadata": {
        "colab": {
          "base_uri": "https://localhost:8080/",
          "height": 302
        },
        "id": "VF0rDCc7khpw",
        "outputId": "16446b16-476f-498a-bb78-10a3299b9e1f"
      },
      "source": [
        "print(\"Label: {}\".format(y[4000]))\n",
        "plt.imshow(X[4000], cmap='gray')"
      ],
      "execution_count": 96,
      "outputs": [
        {
          "output_type": "stream",
          "text": [
            "Label: Small-flowered Cranesbill\n"
          ],
          "name": "stdout"
        },
        {
          "output_type": "execute_result",
          "data": {
            "text/plain": [
              "<matplotlib.image.AxesImage at 0x7f6d4769ccd0>"
            ]
          },
          "metadata": {
            "tags": []
          },
          "execution_count": 96
        },
        {
          "output_type": "display_data",
          "data": {
            "image/png": "[encoded data removed]",
            "text/plain": [
              "<Figure size 432x288 with 1 Axes>"
            ]
          },
          "metadata": {
            "tags": [],
            "needs_background": "light"
          }
        }
      ]
    },
    {
      "cell_type": "markdown",
      "metadata": {
        "id": "RVw4wsuW5sXO"
      },
      "source": [
        "X_train and X_test contain greyscale RGB codes (from 0 to 255) while y_train and y_test contains labels from 0 to 9 which represents which number they actually are."
      ]
    },
    {
      "cell_type": "markdown",
      "metadata": {
        "id": "xgQ86Vhw5sXP"
      },
      "source": [
        "Let's visualize some numbers using matplotlib"
      ]
    },
    {
      "cell_type": "code",
      "metadata": {
        "id": "VZwg00gO5sXQ",
        "colab": {
          "base_uri": "https://localhost:8080/",
          "height": 298
        },
        "outputId": "b5445f86-d1bf-43a8-9da6-a119f80ec4d5"
      },
      "source": [
        "import matplotlib.pyplot as plt\n",
        "%matplotlib inline\n",
        "print(\"Label: {}\".format(y_train[1000]))\n",
        "plt.imshow(X_train[1000], cmap='gray')"
      ],
      "execution_count": null,
      "outputs": [
        {
          "output_type": "stream",
          "text": [
            "Label: 0\n"
          ],
          "name": "stdout"
        },
        {
          "output_type": "execute_result",
          "data": {
            "text/plain": [
              "<matplotlib.image.AxesImage at 0x7fc36e2b2750>"
            ]
          },
          "metadata": {
            "tags": []
          },
          "execution_count": 5
        },
        {
          "output_type": "display_data",
          "data": {
            "image/png": "[encoded data removed]",
            "text/plain": [
              "<Figure size 432x288 with 1 Axes>"
            ]
          },
          "metadata": {
            "tags": [],
            "needs_background": "light"
          }
        }
      ]
    },
    {
      "cell_type": "markdown",
      "metadata": {
        "id": "p64mhwp95sXS"
      },
      "source": [
        "## Question 1"
      ]
    },
    {
      "cell_type": "markdown",
      "metadata": {
        "id": "XxNAiWYd5sXT"
      },
      "source": [
        "### Create two datasets\n",
        "- First having digits from 0 to 4\n",
        "- Second having digits from 5 to 9\n",
        "\n",
        "Hint: use labels to separate data"
      ]
    },
    {
      "cell_type": "code",
      "metadata": {
        "colab": {
          "base_uri": "https://localhost:8080/"
        },
        "id": "o30f-YBuCx9K",
        "outputId": "89d2e514-62f8-4c3a-82cf-0acddb62eb29"
      },
      "source": [
        "X_train\n",
        "x= y_train < 5\n",
        "print(X_train.shape)\n",
        "print(y_train.shape)\n",
        "print(x.shape)\n",
        "x"
      ],
      "execution_count": null,
      "outputs": [
        {
          "output_type": "stream",
          "text": [
            "(60000, 28, 28)\n",
            "(60000,)\n",
            "(60000,)\n"
          ],
          "name": "stdout"
        },
        {
          "output_type": "execute_result",
          "data": {
            "text/plain": [
              "array([False,  True,  True, ..., False, False, False])"
            ]
          },
          "metadata": {
            "tags": []
          },
          "execution_count": 20
        }
      ]
    },
    {
      "cell_type": "code",
      "metadata": {
        "id": "1807m1CL5sXT"
      },
      "source": [
        "##Data from 0 to 4\n",
        "X_train_04 = X_train[y_train < 5]\n",
        "y_train_04 = y_train[y_train < 5]\n",
        "X_test_04 = X_test[y_test < 5]\n",
        "y_test_04 = y_test[y_test < 5]\n",
        "\n",
        "#Data from 5 to 9\n",
        "X_train_59 = X_train[y_train >= 5]\n",
        "y_train_59 = y_train[y_train >= 5]\n",
        "X_test_59 = X_test[y_test >= 5]\n",
        "y_test_59 = y_test[y_test >= 5]"
      ],
      "execution_count": null,
      "outputs": []
    },
    {
      "cell_type": "markdown",
      "metadata": {
        "id": "M9jKcF1z5sXV"
      },
      "source": [
        "## Question 2"
      ]
    },
    {
      "cell_type": "markdown",
      "metadata": {
        "id": "NMo7lvwQ5sXW"
      },
      "source": [
        "### Print shape of the data\n",
        "- print shape of all variables of both the datasets you created"
      ]
    },
    {
      "cell_type": "code",
      "metadata": {
        "id": "kH7ZjEoH5sXW",
        "colab": {
          "base_uri": "https://localhost:8080/"
        },
        "outputId": "f3a705e1-d205-4f2f-d805-9258098303c4"
      },
      "source": [
        "print (\"Size of X_train_04 = \",X_train_04.shape)\n",
        "print (\"Size of y_train_04 = \",y_train_04.shape)\n",
        "print (\"Size of X_test_04 = \",X_test_04.shape)\n",
        "print (\"Size of y_test_04 = \",y_test_04.shape)"
      ],
      "execution_count": null,
      "outputs": [
        {
          "output_type": "stream",
          "text": [
            "Size of X_train_04 =  (30596, 28, 28)\n",
            "Size of y_train_04 =  (30596,)\n",
            "Size of X_test_04 =  (5139, 28, 28)\n",
            "Size of y_test_04 =  (5139,)\n"
          ],
          "name": "stdout"
        }
      ]
    },
    {
      "cell_type": "markdown",
      "metadata": {
        "id": "bDNnjkPW4Z5j"
      },
      "source": [
        "*   30596 records are present in training set with labels 0-4\n",
        "*   5139 records are present in test set with labels 0-4\n",
        "\n"
      ]
    },
    {
      "cell_type": "code",
      "metadata": {
        "colab": {
          "base_uri": "https://localhost:8080/"
        },
        "id": "rTLppjGI4Qzc",
        "outputId": "3e7f1573-3f1f-495c-ce92-08bf76bd24a0"
      },
      "source": [
        "print (\"Size of X_train_59 = \",X_train_59.shape)\n",
        "print (\"Size of y_train_59 = \",y_train_59.shape)\n",
        "print (\"Size of X_test_59 = \",X_test_59.shape)\n",
        "print (\"Size of y_test_59 = \",y_test_59.shape)"
      ],
      "execution_count": null,
      "outputs": [
        {
          "output_type": "stream",
          "text": [
            "Size of X_train_59 =  (29404, 28, 28)\n",
            "Size of y_train_59 =  (29404,)\n",
            "Size of X_test_59 =  (4861, 28, 28)\n",
            "Size of y_test_59 =  (4861,)\n"
          ],
          "name": "stdout"
        }
      ]
    },
    {
      "cell_type": "markdown",
      "metadata": {
        "id": "_7LsH-qY4sAl"
      },
      "source": [
        "\n",
        "\n",
        "*   29404 records are present in training set with labels 5-9\n",
        "*   4861 records are present in test set with labels 5-9\n",
        "\n"
      ]
    },
    {
      "cell_type": "code",
      "metadata": {
        "colab": {
          "base_uri": "https://localhost:8080/"
        },
        "id": "LlDUTk325Klw",
        "outputId": "8617f48d-cd64-4bc5-ca8c-44370be2e9ab"
      },
      "source": [
        "import numpy as np\n",
        "print(np.unique(y_train_04))\n",
        "print(np.unique(y_train_59))"
      ],
      "execution_count": null,
      "outputs": [
        {
          "output_type": "stream",
          "text": [
            "[0 1 2 3 4]\n",
            "[5 6 7 8 9]\n"
          ],
          "name": "stdout"
        }
      ]
    },
    {
      "cell_type": "markdown",
      "metadata": {
        "id": "IUU4PkKU5sXY"
      },
      "source": [
        "## Question 3"
      ]
    },
    {
      "cell_type": "markdown",
      "metadata": {
        "id": "4I8ajqdt5sXY"
      },
      "source": [
        "### Reshape data\n",
        "- reshape first dataset\n",
        "- To be able to use the dataset in Keras, we need 4-dims numpy arrays. \n",
        "- reshape features to pass it to a Conv2D layer\n",
        "- channel = 1\n",
        "- reshape features of first dataset only\n",
        "- do not reshape labels"
      ]
    },
    {
      "cell_type": "code",
      "metadata": {
        "id": "38wgBEcz5sXa",
        "colab": {
          "base_uri": "https://localhost:8080/"
        },
        "outputId": "b11c9fca-b796-4446-a5a7-f53cb41ac298"
      },
      "source": [
        "X_train_04=X_train_04.reshape(X_train_04.shape[0],28,28,1)\n",
        "X_test_04=X_test_04.reshape(X_test_04.shape[0],28,28,1)\n",
        "\n",
        "print(X_train_04.shape)\n",
        "print(X_test_04.shape)"
      ],
      "execution_count": null,
      "outputs": [
        {
          "output_type": "stream",
          "text": [
            "(30596, 28, 28, 1)\n",
            "(5139, 28, 28, 1)\n"
          ],
          "name": "stdout"
        }
      ]
    },
    {
      "cell_type": "markdown",
      "metadata": {
        "id": "_5H-BtNm5sXg"
      },
      "source": [
        "## Question 4"
      ]
    },
    {
      "cell_type": "markdown",
      "metadata": {
        "id": "2ahCMtCl5sXh"
      },
      "source": [
        "### Normalize data\n",
        "- normalize first dataset\n",
        "- we must normalize our data as it is always required in neural network models\n",
        "- we can achieve this by dividing the RGB codes to 255 (which is the maximum RGB code minus the minimum RGB code)\n",
        "- normalize X_train and X_test\n",
        "- make sure that the values are float so that we can get decimal points after division"
      ]
    },
    {
      "cell_type": "code",
      "metadata": {
        "id": "z4mti7pg5sXj"
      },
      "source": [
        "X_train_04 = X_train_04.astype('float32')\n",
        "X_test_04 = X_test_04.astype('float32')\n",
        "X_train_04/=255\n",
        "X_test_04/=255"
      ],
      "execution_count": null,
      "outputs": []
    },
    {
      "cell_type": "markdown",
      "metadata": {
        "id": "TfQ6545D5sXp"
      },
      "source": [
        "### Print shape of data and number of images\n",
        "- for first dataset\n",
        "- print shape of X_train\n",
        "- print number of images in X_train\n",
        "- print number of images in X_test"
      ]
    },
    {
      "cell_type": "code",
      "metadata": {
        "id": "uQfQXZMo5sXp",
        "colab": {
          "base_uri": "https://localhost:8080/"
        },
        "outputId": "03801bc9-8ebc-4d8b-c5e7-50b2da64afab"
      },
      "source": [
        "print(\"Shape of X_train_04 = \",X_train_04.shape)\n",
        "print(\"Shape of X_test_04 = \",X_test_04.shape)\n",
        "print(\"Number of images in X_train_04 = \",X_train_04.shape[0])\n",
        "print(\"Number of images in X_test_04 = \",X_test_04.shape[0])"
      ],
      "execution_count": null,
      "outputs": [
        {
          "output_type": "stream",
          "text": [
            "Shape of X_train_04 =  (30596, 28, 28, 1)\n",
            "Shape of X_test_04 =  (5139, 28, 28, 1)\n",
            "Number of images in X_train_04 =  30596\n",
            "Number of images in X_test_04 =  5139\n"
          ],
          "name": "stdout"
        }
      ]
    },
    {
      "cell_type": "markdown",
      "metadata": {
        "id": "9oFjomSh5sXu"
      },
      "source": [
        "## Question 5"
      ]
    },
    {
      "cell_type": "markdown",
      "metadata": {
        "id": "2lEFQQNk5sXu"
      },
      "source": [
        "### One-hot encode the class vector\n",
        "- encode labels of first dataset\n",
        "- convert class vectors (integers) to binary class matrix\n",
        "- convert y_train and y_test\n",
        "- number of classes: 5\n",
        "- we are doing this to use categorical_crossentropy as loss\n",
        "\n",
        "Hint: you can use tensorflow.keras.utils.to_categorical"
      ]
    },
    {
      "cell_type": "code",
      "metadata": {
        "id": "aejx3Zb35sXv",
        "colab": {
          "base_uri": "https://localhost:8080/"
        },
        "outputId": "42bc76f7-f6ae-496c-837b-71f5ce46b273"
      },
      "source": [
        "num_classes = 5\n",
        "y_train_04=tensorflow.keras.utils.to_categorical(y_train_04,num_classes)\n",
        "y_test_04=tensorflow.keras.utils.to_categorical(y_test_04,num_classes)\n",
        "\n",
        "y_train_04"
      ],
      "execution_count": null,
      "outputs": [
        {
          "output_type": "execute_result",
          "data": {
            "text/plain": [
              "array([[1., 0., 0., 0., 0.],\n",
              "       [0., 0., 0., 0., 1.],\n",
              "       [0., 1., 0., 0., 0.],\n",
              "       ...,\n",
              "       [0., 0., 1., 0., 0.],\n",
              "       [0., 1., 0., 0., 0.],\n",
              "       [0., 0., 0., 1., 0.]], dtype=float32)"
            ]
          },
          "metadata": {
            "tags": []
          },
          "execution_count": 12
        }
      ]
    },
    {
      "cell_type": "markdown",
      "metadata": {
        "id": "PlkiipRA5sXw"
      },
      "source": [
        "## Question 6\n",
        "We will build our model by using Keras."
      ]
    },
    {
      "cell_type": "markdown",
      "metadata": {
        "id": "KzYMC_xm5sXx"
      },
      "source": [
        "### Initialize a sequential model\n",
        "- define a sequential model\n",
        "- add 2 convolutional layers\n",
        "    - no of filters: 32\n",
        "    - kernel size: 3x3\n",
        "    - activation: \"relu\"\n",
        "    - input shape: (28, 28, 1) for first layer\n",
        "- add a max pooling layer of size 2x2\n",
        "- add a dropout layer\n",
        "    - dropout layers fight with the overfitting by disregarding some of the neurons while training\n",
        "    - use dropout rate 0.2"
      ]
    },
    {
      "cell_type": "code",
      "metadata": {
        "id": "NCslNvbzCGgr"
      },
      "source": [
        "from keras.models import Sequential\n",
        "from keras.layers.core import Dense,Dropout,Flatten\n",
        "from keras.layers.convolutional import Conv2D,MaxPooling2D"
      ],
      "execution_count": null,
      "outputs": []
    },
    {
      "cell_type": "code",
      "metadata": {
        "id": "mDr-HKl-5sXx"
      },
      "source": [
        "input_shape = (28,28,1)\n",
        "num_classes = 5\n",
        "\n",
        "model = Sequential()\n",
        "model.add(Conv2D(filters = 32, kernel_size=(3, 3), activation='relu', input_shape=input_shape))\n",
        "model.add(Conv2D(filters = 32, kernel_size=(3, 3), activation='relu'))\n",
        "model.add(MaxPooling2D(pool_size=(2, 2)))\n",
        "model.add(Dropout(0.2))\n"
      ],
      "execution_count": null,
      "outputs": []
    },
    {
      "cell_type": "code",
      "metadata": {
        "colab": {
          "base_uri": "https://localhost:8080/"
        },
        "id": "Y8pWrjqoDkHq",
        "outputId": "4939a4c7-dcbd-4b4e-e2af-d6617ce1033b"
      },
      "source": [
        "model.summary()"
      ],
      "execution_count": null,
      "outputs": [
        {
          "output_type": "stream",
          "text": [
            "Model: \"sequential\"\n",
            "_________________________________________________________________\n",
            "Layer (type)                 Output Shape              Param #   \n",
            "=================================================================\n",
            "conv2d (Conv2D)              (None, 26, 26, 32)        320       \n",
            "_________________________________________________________________\n",
            "conv2d_1 (Conv2D)            (None, 24, 24, 32)        9248      \n",
            "_________________________________________________________________\n",
            "max_pooling2d (MaxPooling2D) (None, 12, 12, 32)        0         \n",
            "_________________________________________________________________\n",
            "dropout (Dropout)            (None, 12, 12, 32)        0         \n",
            "=================================================================\n",
            "Total params: 9,568\n",
            "Trainable params: 9,568\n",
            "Non-trainable params: 0\n",
            "_________________________________________________________________\n"
          ],
          "name": "stdout"
        }
      ]
    },
    {
      "cell_type": "markdown",
      "metadata": {
        "id": "k2RaPWiP5sXz"
      },
      "source": [
        "## Question 7"
      ]
    },
    {
      "cell_type": "markdown",
      "metadata": {
        "id": "4ajGIM6t5sXz"
      },
      "source": [
        "### Add classification layers\n",
        "- do this after doing question 6\n",
        "- flatten the data\n",
        "    - add Flatten later\n",
        "    - flatten layers flatten 2D arrays to 1D array before building the fully connected layers\n",
        "- add 2 dense layers\n",
        "    - number of neurons in first layer: 128\n",
        "    - number of neurons in last layer: number of classes\n",
        "    - activation function in first layer: relu\n",
        "    - activation function in last layer: softmax\n",
        "    - we may experiment with any number of neurons for the first Dense layer; however, the final Dense layer must have neurons equal to the number of output classes\n",
        "- you can add a dropout layer in between, if necessary"
      ]
    },
    {
      "cell_type": "code",
      "metadata": {
        "id": "jBxWAN265sX0"
      },
      "source": [
        "model.add(Flatten())\n",
        "\n",
        "model.add(Dense(128, activation='relu')) \n",
        "model.add(Dense(num_classes, activation='softmax'))"
      ],
      "execution_count": null,
      "outputs": []
    },
    {
      "cell_type": "code",
      "metadata": {
        "colab": {
          "base_uri": "https://localhost:8080/"
        },
        "id": "ROOnra3nGFRy",
        "outputId": "65da79ea-bf0d-4d15-e41a-e08eaeecb2f1"
      },
      "source": [
        "model.summary()"
      ],
      "execution_count": null,
      "outputs": [
        {
          "output_type": "stream",
          "text": [
            "Model: \"sequential\"\n",
            "_________________________________________________________________\n",
            "Layer (type)                 Output Shape              Param #   \n",
            "=================================================================\n",
            "conv2d (Conv2D)              (None, 26, 26, 32)        320       \n",
            "_________________________________________________________________\n",
            "conv2d_1 (Conv2D)            (None, 24, 24, 32)        9248      \n",
            "_________________________________________________________________\n",
            "max_pooling2d (MaxPooling2D) (None, 12, 12, 32)        0         \n",
            "_________________________________________________________________\n",
            "dropout (Dropout)            (None, 12, 12, 32)        0         \n",
            "_________________________________________________________________\n",
            "flatten (Flatten)            (None, 4608)              0         \n",
            "_________________________________________________________________\n",
            "dense (Dense)                (None, 128)               589952    \n",
            "_________________________________________________________________\n",
            "dense_1 (Dense)              (None, 5)                 645       \n",
            "=================================================================\n",
            "Total params: 600,165\n",
            "Trainable params: 600,165\n",
            "Non-trainable params: 0\n",
            "_________________________________________________________________\n"
          ],
          "name": "stdout"
        }
      ]
    },
    {
      "cell_type": "markdown",
      "metadata": {
        "id": "Lhtm4d5K5sX1"
      },
      "source": [
        "## Question 8"
      ]
    },
    {
      "cell_type": "markdown",
      "metadata": {
        "id": "SmXg8EaF5sX2"
      },
      "source": [
        "### Compile and fit the model\n",
        "- compile your model\n",
        "    - loss: \"categorical_crossentropy\"\n",
        "    - metrics: \"accuracy\"\n",
        "    - optimizer: \"sgd\"\n",
        "- fit your model\n",
        "    - give train data - features and labels\n",
        "    - batch size: 128\n",
        "    - epochs: 10\n",
        "    - give validation data - features and labels"
      ]
    },
    {
      "cell_type": "code",
      "metadata": {
        "id": "cgclxC8s5sX4",
        "colab": {
          "base_uri": "https://localhost:8080/"
        },
        "outputId": "b9be1bd7-8d5b-4896-b655-905d3dc0c09a"
      },
      "source": [
        "model.compile(optimizer='sgd',loss='categorical_crossentropy', metrics=['accuracy'])\n",
        "model.fit(X_train_04,y_train_04,validation_data=(X_train_04,y_train_04),epochs=10,batch_size=128)"
      ],
      "execution_count": null,
      "outputs": [
        {
          "output_type": "stream",
          "text": [
            "Epoch 1/10\n",
            "240/240 [==============================] - 5s 11ms/step - loss: 1.0054 - accuracy: 0.7040 - val_loss: 0.1383 - val_accuracy: 0.9585\n",
            "Epoch 2/10\n",
            "240/240 [==============================] - 2s 9ms/step - loss: 0.1379 - accuracy: 0.9578 - val_loss: 0.1275 - val_accuracy: 0.9600\n",
            "Epoch 3/10\n",
            "240/240 [==============================] - 2s 9ms/step - loss: 0.1228 - accuracy: 0.9629 - val_loss: 0.0999 - val_accuracy: 0.9683\n",
            "Epoch 4/10\n",
            "240/240 [==============================] - 2s 9ms/step - loss: 0.1049 - accuracy: 0.9665 - val_loss: 0.0892 - val_accuracy: 0.9722\n",
            "Epoch 5/10\n",
            "240/240 [==============================] - 2s 9ms/step - loss: 0.0986 - accuracy: 0.9685 - val_loss: 0.1363 - val_accuracy: 0.9570\n",
            "Epoch 6/10\n",
            "240/240 [==============================] - 2s 9ms/step - loss: 0.0916 - accuracy: 0.9713 - val_loss: 2.7705 - val_accuracy: 0.4170\n",
            "Epoch 7/10\n",
            "240/240 [==============================] - 2s 9ms/step - loss: 0.1723 - accuracy: 0.9569 - val_loss: 0.0675 - val_accuracy: 0.9789\n",
            "Epoch 8/10\n",
            "240/240 [==============================] - 2s 9ms/step - loss: 0.0782 - accuracy: 0.9750 - val_loss: 0.0632 - val_accuracy: 0.9804\n",
            "Epoch 9/10\n",
            "240/240 [==============================] - 2s 9ms/step - loss: 0.0712 - accuracy: 0.9770 - val_loss: 0.0570 - val_accuracy: 0.9827\n",
            "Epoch 10/10\n",
            "240/240 [==============================] - 2s 9ms/step - loss: 0.0702 - accuracy: 0.9794 - val_loss: 0.0545 - val_accuracy: 0.9828\n"
          ],
          "name": "stdout"
        },
        {
          "output_type": "execute_result",
          "data": {
            "text/plain": [
              "<tensorflow.python.keras.callbacks.History at 0x7ff4ac24dc50>"
            ]
          },
          "metadata": {
            "tags": []
          },
          "execution_count": 18
        }
      ]
    },
    {
      "cell_type": "markdown",
      "metadata": {
        "id": "oSVZUu3p5sX5"
      },
      "source": [
        "## Question 9"
      ]
    },
    {
      "cell_type": "markdown",
      "metadata": {
        "id": "Y5TQ3yLV5sX6"
      },
      "source": [
        "### Evaluate model\n",
        "- evaluate your model and get accuracy\n",
        "- use test features and labels"
      ]
    },
    {
      "cell_type": "code",
      "metadata": {
        "id": "bBvuD3ba5sX7",
        "colab": {
          "base_uri": "https://localhost:8080/"
        },
        "outputId": "0ec0a2f2-a163-4961-9506-391a3597c086"
      },
      "source": [
        "score = model.evaluate(X_test_04, y_test_04, verbose=0)\n",
        "print('Test loss:', score[0])\n",
        "print('Test accuracy:', score[1])"
      ],
      "execution_count": null,
      "outputs": [
        {
          "output_type": "stream",
          "text": [
            "Test loss: 0.0404113307595253\n",
            "Test accuracy: 0.9885191917419434\n"
          ],
          "name": "stdout"
        }
      ]
    },
    {
      "cell_type": "code",
      "metadata": {
        "id": "gcX3O13kKVG1"
      },
      "source": [
        "y_predict = model.predict(X_test_04)"
      ],
      "execution_count": null,
      "outputs": []
    },
    {
      "cell_type": "code",
      "metadata": {
        "colab": {
          "base_uri": "https://localhost:8080/"
        },
        "id": "cHL_xXToKlHy",
        "outputId": "888979e2-7b40-4726-ffe2-eac7b3bf2a58"
      },
      "source": [
        "np.argmax(y_predict[0])"
      ],
      "execution_count": null,
      "outputs": [
        {
          "output_type": "execute_result",
          "data": {
            "text/plain": [
              "2"
            ]
          },
          "metadata": {
            "tags": []
          },
          "execution_count": 21
        }
      ]
    },
    {
      "cell_type": "markdown",
      "metadata": {
        "id": "8aUzOh9m5sX-"
      },
      "source": [
        "## Question 10"
      ]
    },
    {
      "cell_type": "markdown",
      "metadata": {
        "id": "srd-YYNH5sX-"
      },
      "source": [
        "## Transfer learning\n",
        "Now we will apply this model on second dataset (5-9 digits)\n",
        "\n",
        "- fix the first convolution layers so that the weights in the convolution layers dont get updated in the process of training\n",
        "- get the second dataset\n",
        "- train the last 2 dense layers\n",
        "- predict the accuracy and loss"
      ]
    },
    {
      "cell_type": "markdown",
      "metadata": {
        "id": "KvhdH7D55sYA"
      },
      "source": [
        "### Make only dense layers trainable\n",
        "- set trainalble = False for all layers other than Dense layers"
      ]
    },
    {
      "cell_type": "code",
      "metadata": {
        "id": "brN7VZHFaEJ4",
        "colab": {
          "base_uri": "https://localhost:8080/"
        },
        "outputId": "a4e1321a-e407-43d2-e84d-39ccae19c2eb"
      },
      "source": [
        "for layer in model.layers[:]:\n",
        "    if (\"dense\" not in layer.name):\n",
        "      print(\"Setting layer %s to not trainable\"%layer.name)\n",
        "      layer.trainable =  False"
      ],
      "execution_count": null,
      "outputs": [
        {
          "output_type": "stream",
          "text": [
            "Setting layer conv2d to not trainable\n",
            "Setting layer conv2d_1 to not trainable\n",
            "Setting layer max_pooling2d to not trainable\n",
            "Setting layer dropout to not trainable\n",
            "Setting layer flatten to not trainable\n"
          ],
          "name": "stdout"
        }
      ]
    },
    {
      "cell_type": "markdown",
      "metadata": {
        "id": "FYR9VGzO5sYE"
      },
      "source": [
        "### Modify data\n",
        "- in your second data, class labels will start from 5 to 9 but for keras.utils.to_categorical the labels should start from 0\n",
        "- so you need to subtract 5 from train and test labels"
      ]
    },
    {
      "cell_type": "code",
      "metadata": {
        "id": "lC5W75L35sYF",
        "colab": {
          "base_uri": "https://localhost:8080/"
        },
        "outputId": "f37abe9c-3884-4fe7-fc2b-ba849e85ad2b"
      },
      "source": [
        "y_train_59 = y_train_59 - 5\n",
        "y_test_59 = y_test_59 - 5\n",
        "\n",
        "np.unique(y_train_59)"
      ],
      "execution_count": null,
      "outputs": [
        {
          "output_type": "execute_result",
          "data": {
            "text/plain": [
              "array([0, 1, 2, 3, 4], dtype=uint8)"
            ]
          },
          "metadata": {
            "tags": []
          },
          "execution_count": 23
        }
      ]
    },
    {
      "cell_type": "markdown",
      "metadata": {
        "id": "YGY3OTBt5sYG"
      },
      "source": [
        "### Reshape data\n",
        "- reshape second dataset\n",
        "- To be able to use the dataset in Keras, we need 4-dims numpy arrays. \n",
        "- reshape features to pass it to a Conv2D layer\n",
        "- channel = 1\n",
        "- reshape features of first dataset only\n",
        "- do not reshape labels"
      ]
    },
    {
      "cell_type": "code",
      "metadata": {
        "id": "0V7RUlRD5sYH",
        "colab": {
          "base_uri": "https://localhost:8080/"
        },
        "outputId": "1d7fb99c-ed6d-4893-e27b-91bf04e6105d"
      },
      "source": [
        "X_train_59=X_train_59.reshape(X_train_59.shape[0],28,28,1)\n",
        "X_test_59=X_test_59.reshape(X_test_59.shape[0],28,28,1)\n",
        "\n",
        "print(X_train_59.shape)\n",
        "print(X_test_59.shape)"
      ],
      "execution_count": null,
      "outputs": [
        {
          "output_type": "stream",
          "text": [
            "(29404, 28, 28, 1)\n",
            "(4861, 28, 28, 1)\n"
          ],
          "name": "stdout"
        }
      ]
    },
    {
      "cell_type": "markdown",
      "metadata": {
        "id": "c7omqMQH5sYJ"
      },
      "source": [
        "### Normalize data\n",
        "- normalize second data\n",
        "- we must normalize our data as it is always required in neural network models\n",
        "- we can achieve this by dividing the RGB codes to 255 (which is the maximum RGB code minus the minimum RGB code)\n",
        "- normalize X_train and X_test\n",
        "- make sure that the values are float so that we can get decimal points after division"
      ]
    },
    {
      "cell_type": "code",
      "metadata": {
        "id": "PEFYNHRp5sYJ"
      },
      "source": [
        "X_train_59 = X_train_59.astype('float32')\n",
        "X_test_59 = X_test_59.astype('float32')\n",
        "X_train_59/=255\n",
        "X_test_59/=255"
      ],
      "execution_count": null,
      "outputs": []
    },
    {
      "cell_type": "markdown",
      "metadata": {
        "id": "0OfdlF655sYM"
      },
      "source": [
        "### Print shape of data and number of images\n",
        "- print shape of X_train\n",
        "- print number of images in X_train\n",
        "- print number of images in X_test"
      ]
    },
    {
      "cell_type": "code",
      "metadata": {
        "id": "bZEkCQ-P5sYO",
        "colab": {
          "base_uri": "https://localhost:8080/"
        },
        "outputId": "6e8b7d10-ddb6-4f65-a5f9-7b752e394e72"
      },
      "source": [
        "print(\"Shape of X_train_59 = \",X_train_59.shape)\n",
        "print(\"Shape of X_test_59 = \",X_test_59.shape)\n",
        "print(\"Number of images in X_train_59 = \",X_train_59.shape[0])\n",
        "print(\"Number of images in X_test_59 = \",X_test_59.shape[0])"
      ],
      "execution_count": null,
      "outputs": [
        {
          "output_type": "stream",
          "text": [
            "Shape of X_train_59 =  (29404, 28, 28, 1)\n",
            "Shape of X_test_59 =  (4861, 28, 28, 1)\n",
            "Number of images in X_train_59 =  29404\n",
            "Number of images in X_test_59 =  4861\n"
          ],
          "name": "stdout"
        }
      ]
    },
    {
      "cell_type": "markdown",
      "metadata": {
        "id": "c_3-0Qwo5sYQ"
      },
      "source": [
        "### One-hot encode the class vector\n",
        "- convert class vectors (integers) to binary class matrix\n",
        "- convert y_train and y_test\n",
        "- number of classes: 5\n",
        "- we are doing this to use categorical_crossentropy as loss\n",
        "\n",
        "Hint: you can use tensorflow.keras.utils.to_categorical"
      ]
    },
    {
      "cell_type": "code",
      "metadata": {
        "id": "k46Me5Re5sYR",
        "colab": {
          "base_uri": "https://localhost:8080/"
        },
        "outputId": "4592fb2a-c10c-4708-bdb7-8032d0e24bc9"
      },
      "source": [
        "num_classes = 5\n",
        "y_train_59=tensorflow.keras.utils.to_categorical(y_train_59,num_classes)\n",
        "y_test_59=tensorflow.keras.utils.to_categorical(y_test_59,num_classes)\n",
        "\n",
        "y_train_59"
      ],
      "execution_count": null,
      "outputs": [
        {
          "output_type": "execute_result",
          "data": {
            "text/plain": [
              "array([[1., 0., 0., 0., 0.],\n",
              "       [0., 0., 0., 0., 1.],\n",
              "       [1., 0., 0., 0., 0.],\n",
              "       ...,\n",
              "       [1., 0., 0., 0., 0.],\n",
              "       [0., 1., 0., 0., 0.],\n",
              "       [0., 0., 0., 1., 0.]], dtype=float32)"
            ]
          },
          "metadata": {
            "tags": []
          },
          "execution_count": 27
        }
      ]
    },
    {
      "cell_type": "markdown",
      "metadata": {
        "id": "D9xEoW515sYS"
      },
      "source": [
        "### Fit the model\n",
        "- give train data - features and labels\n",
        "- batch size: 128\n",
        "- epochs: 10\n",
        "- give validation data - features and labels"
      ]
    },
    {
      "cell_type": "code",
      "metadata": {
        "id": "B6f-XAc-5sYT",
        "colab": {
          "base_uri": "https://localhost:8080/"
        },
        "outputId": "8192f164-d9b3-4940-e35e-e847a5d2a9a8"
      },
      "source": [
        "history = model.fit(x = X_train_59, y = y_train_59, validation_data=(X_train_59,y_train_59),epochs=10,batch_size=128)"
      ],
      "execution_count": null,
      "outputs": [
        {
          "output_type": "stream",
          "text": [
            "Epoch 1/10\n",
            "230/230 [==============================] - 2s 9ms/step - loss: 0.3800 - accuracy: 0.8798 - val_loss: 0.1828 - val_accuracy: 0.9400\n",
            "Epoch 2/10\n",
            "230/230 [==============================] - 2s 9ms/step - loss: 0.1816 - accuracy: 0.9420 - val_loss: 0.1389 - val_accuracy: 0.9536\n",
            "Epoch 3/10\n",
            "230/230 [==============================] - 2s 9ms/step - loss: 0.1497 - accuracy: 0.9512 - val_loss: 0.1146 - val_accuracy: 0.9635\n",
            "Epoch 4/10\n",
            "230/230 [==============================] - 2s 9ms/step - loss: 0.1289 - accuracy: 0.9575 - val_loss: 0.1080 - val_accuracy: 0.9666\n",
            "Epoch 5/10\n",
            "230/230 [==============================] - 2s 9ms/step - loss: 0.1159 - accuracy: 0.9632 - val_loss: 0.0887 - val_accuracy: 0.9709\n",
            "Epoch 6/10\n",
            "230/230 [==============================] - 2s 9ms/step - loss: 0.1036 - accuracy: 0.9670 - val_loss: 0.0886 - val_accuracy: 0.9714\n",
            "Epoch 7/10\n",
            "230/230 [==============================] - 2s 9ms/step - loss: 0.0972 - accuracy: 0.9686 - val_loss: 0.0733 - val_accuracy: 0.9769\n",
            "Epoch 8/10\n",
            "230/230 [==============================] - 2s 9ms/step - loss: 0.0906 - accuracy: 0.9703 - val_loss: 0.0663 - val_accuracy: 0.9794\n",
            "Epoch 9/10\n",
            "230/230 [==============================] - 2s 9ms/step - loss: 0.0831 - accuracy: 0.9737 - val_loss: 0.0638 - val_accuracy: 0.9800\n",
            "Epoch 10/10\n",
            "230/230 [==============================] - 2s 9ms/step - loss: 0.0791 - accuracy: 0.9744 - val_loss: 0.0623 - val_accuracy: 0.9806\n"
          ],
          "name": "stdout"
        }
      ]
    },
    {
      "cell_type": "markdown",
      "metadata": {
        "id": "85ginrII5sYV"
      },
      "source": [
        "### Evaluate model\n",
        "- evaluate your model and get accuracy\n",
        "- use test features and labels"
      ]
    },
    {
      "cell_type": "code",
      "metadata": {
        "id": "k11-vrsm5sYW",
        "colab": {
          "base_uri": "https://localhost:8080/"
        },
        "outputId": "0f739988-2963-4880-f1a2-ba1a83004315"
      },
      "source": [
        "score = model.evaluate(X_test_59, y_test_59, verbose=0)\n",
        "print('Test loss:', score[0])\n",
        "print('Test accuracy:', score[1])"
      ],
      "execution_count": null,
      "outputs": [
        {
          "output_type": "stream",
          "text": [
            "Test loss: 0.07241731882095337\n",
            "Test accuracy: 0.9746965765953064\n"
          ],
          "name": "stdout"
        }
      ]
    },
    {
      "cell_type": "code",
      "metadata": {
        "colab": {
          "base_uri": "https://localhost:8080/"
        },
        "id": "IuFRKuo5VUhD",
        "outputId": "431b156e-6531-4ae9-bf84-42b58504089a"
      },
      "source": [
        "y_predict = model.predict(X_test_59)\n",
        "np.argmax(y_predict[0])"
      ],
      "execution_count": null,
      "outputs": [
        {
          "output_type": "execute_result",
          "data": {
            "text/plain": [
              "2"
            ]
          },
          "metadata": {
            "tags": []
          },
          "execution_count": 30
        }
      ]
    },
    {
      "cell_type": "markdown",
      "metadata": {
        "id": "dTNhSDqn5sYY"
      },
      "source": [
        "-----------------------------------------------------------------------------"
      ]
    },
    {
      "cell_type": "markdown",
      "metadata": {
        "id": "FU-HwvIdH0M-"
      },
      "source": [
        "# Sentiment analysis \n",
        "\n",
        "The objective of the second problem is to perform Sentiment analysis from the tweets collected from the users targeted at various mobile devices.\n",
        "Based on the tweet posted by a user (text), we will classify if the sentiment of the user targeted at a particular mobile device is positive or not."
      ]
    },
    {
      "cell_type": "markdown",
      "metadata": {
        "id": "aIWWfNks5sYa"
      },
      "source": [
        "## Question 1"
      ]
    },
    {
      "cell_type": "markdown",
      "metadata": {
        "id": "nAQDiZHRH0M_"
      },
      "source": [
        "### Read the data\n",
        "- read tweets.csv\n",
        "- use latin encoding if it gives encoding error while loading"
      ]
    },
    {
      "cell_type": "code",
      "metadata": {
        "colab": {
          "base_uri": "https://localhost:8080/"
        },
        "id": "hAQFwNazW1iT",
        "outputId": "4baef73b-f75b-4e56-db26-93c5d0c9c144"
      },
      "source": [
        "from google.colab import drive\n",
        "\n",
        "drive.mount('/content/gdrive',force_remount=True)"
      ],
      "execution_count": null,
      "outputs": [
        {
          "output_type": "stream",
          "text": [
            "Mounted at /content/gdrive\n"
          ],
          "name": "stdout"
        }
      ]
    },
    {
      "cell_type": "code",
      "metadata": {
        "id": "3eXGIe-SH0NA"
      },
      "source": [
        "import pandas as pd\n",
        "df= pd.read_csv('./gdrive/MyDrive/CNN/LabML-R8/Internal/tweets.csv',encoding = 'unicode_escape')"
      ],
      "execution_count": null,
      "outputs": []
    },
    {
      "cell_type": "code",
      "metadata": {
        "colab": {
          "base_uri": "https://localhost:8080/",
          "height": 195
        },
        "id": "fyWYmTZUYxa9",
        "outputId": "c8d18d52-4c87-409c-edd4-766c0dfa3003"
      },
      "source": [
        "df.head()"
      ],
      "execution_count": null,
      "outputs": [
        {
          "output_type": "execute_result",
          "data": {
            "text/html": [
              "<div>\n",
              "<style scoped>\n",
              "    .dataframe tbody tr th:only-of-type {\n",
              "        vertical-align: middle;\n",
              "    }\n",
              "\n",
              "    .dataframe tbody tr th {\n",
              "        vertical-align: top;\n",
              "    }\n",
              "\n",
              "    .dataframe thead th {\n",
              "        text-align: right;\n",
              "    }\n",
              "</style>\n",
              "<table border=\"1\" class=\"dataframe\">\n",
              "  <thead>\n",
              "    <tr style=\"text-align: right;\">\n",
              "      <th></th>\n",
              "      <th>tweet_text</th>\n",
              "      <th>emotion_in_tweet_is_directed_at</th>\n",
              "      <th>is_there_an_emotion_directed_at_a_brand_or_product</th>\n",
              "    </tr>\n",
              "  </thead>\n",
              "  <tbody>\n",
              "    <tr>\n",
              "      <th>0</th>\n",
              "      <td>.@wesley83 I have a 3G iPhone. After 3 hrs twe...</td>\n",
              "      <td>iPhone</td>\n",
              "      <td>Negative emotion</td>\n",
              "    </tr>\n",
              "    <tr>\n",
              "      <th>1</th>\n",
              "      <td>@jessedee Know about @fludapp ? Awesome iPad/i...</td>\n",
              "      <td>iPad or iPhone App</td>\n",
              "      <td>Positive emotion</td>\n",
              "    </tr>\n",
              "    <tr>\n",
              "      <th>2</th>\n",
              "      <td>@swonderlin Can not wait for #iPad 2 also. The...</td>\n",
              "      <td>iPad</td>\n",
              "      <td>Positive emotion</td>\n",
              "    </tr>\n",
              "    <tr>\n",
              "      <th>3</th>\n",
              "      <td>@sxsw I hope this year's festival isn't as cra...</td>\n",
              "      <td>iPad or iPhone App</td>\n",
              "      <td>Negative emotion</td>\n",
              "    </tr>\n",
              "    <tr>\n",
              "      <th>4</th>\n",
              "      <td>@sxtxstate great stuff on Fri #SXSW: Marissa M...</td>\n",
              "      <td>Google</td>\n",
              "      <td>Positive emotion</td>\n",
              "    </tr>\n",
              "  </tbody>\n",
              "</table>\n",
              "</div>"
            ],
            "text/plain": [
              "                                          tweet_text  ... is_there_an_emotion_directed_at_a_brand_or_product\n",
              "0  .@wesley83 I have a 3G iPhone. After 3 hrs twe...  ...                                   Negative emotion\n",
              "1  @jessedee Know about @fludapp ? Awesome iPad/i...  ...                                   Positive emotion\n",
              "2  @swonderlin Can not wait for #iPad 2 also. The...  ...                                   Positive emotion\n",
              "3  @sxsw I hope this year's festival isn't as cra...  ...                                   Negative emotion\n",
              "4  @sxtxstate great stuff on Fri #SXSW: Marissa M...  ...                                   Positive emotion\n",
              "\n",
              "[5 rows x 3 columns]"
            ]
          },
          "metadata": {
            "tags": []
          },
          "execution_count": 33
        }
      ]
    },
    {
      "cell_type": "markdown",
      "metadata": {
        "id": "39pqw0aE5sYe"
      },
      "source": [
        "### Drop null values\n",
        "- drop all the rows with null values"
      ]
    },
    {
      "cell_type": "code",
      "metadata": {
        "colab": {
          "base_uri": "https://localhost:8080/"
        },
        "id": "zvDo15Bbamhw",
        "outputId": "bdeb7b20-5cec-4ce7-a4f3-da615c4a7bf7"
      },
      "source": [
        "df.shape"
      ],
      "execution_count": null,
      "outputs": [
        {
          "output_type": "execute_result",
          "data": {
            "text/plain": [
              "(9093, 3)"
            ]
          },
          "metadata": {
            "tags": []
          },
          "execution_count": 34
        }
      ]
    },
    {
      "cell_type": "code",
      "metadata": {
        "id": "BF_69oyI5sYf",
        "colab": {
          "base_uri": "https://localhost:8080/"
        },
        "outputId": "2e590a81-867d-49c0-bd3b-6ade71c0fc5c"
      },
      "source": [
        "df.isna().sum()"
      ],
      "execution_count": null,
      "outputs": [
        {
          "output_type": "execute_result",
          "data": {
            "text/plain": [
              "tweet_text                                               1\n",
              "emotion_in_tweet_is_directed_at                       5802\n",
              "is_there_an_emotion_directed_at_a_brand_or_product       0\n",
              "dtype: int64"
            ]
          },
          "metadata": {
            "tags": []
          },
          "execution_count": 35
        }
      ]
    },
    {
      "cell_type": "code",
      "metadata": {
        "id": "bOiH1RyNajhJ"
      },
      "source": [
        "df.dropna(inplace= True)"
      ],
      "execution_count": null,
      "outputs": []
    },
    {
      "cell_type": "code",
      "metadata": {
        "colab": {
          "base_uri": "https://localhost:8080/"
        },
        "id": "rEMz5J7UafW2",
        "outputId": "f5b04cb9-a671-475f-ca87-98cfa5f3b2a4"
      },
      "source": [
        "df.shape"
      ],
      "execution_count": null,
      "outputs": [
        {
          "output_type": "execute_result",
          "data": {
            "text/plain": [
              "(3291, 3)"
            ]
          },
          "metadata": {
            "tags": []
          },
          "execution_count": 37
        }
      ]
    },
    {
      "cell_type": "code",
      "metadata": {
        "colab": {
          "base_uri": "https://localhost:8080/"
        },
        "id": "JAU1wxbebANU",
        "outputId": "8fbe974a-d338-4009-f358-fc481202a2ed"
      },
      "source": [
        "df['emotion_in_tweet_is_directed_at'].value_counts()"
      ],
      "execution_count": null,
      "outputs": [
        {
          "output_type": "execute_result",
          "data": {
            "text/plain": [
              "iPad                               946\n",
              "Apple                              661\n",
              "iPad or iPhone App                 470\n",
              "Google                             430\n",
              "iPhone                             297\n",
              "Other Google product or service    293\n",
              "Android App                         81\n",
              "Android                             78\n",
              "Other Apple product or service      35\n",
              "Name: emotion_in_tweet_is_directed_at, dtype: int64"
            ]
          },
          "metadata": {
            "tags": []
          },
          "execution_count": 38
        }
      ]
    },
    {
      "cell_type": "markdown",
      "metadata": {
        "id": "0bm4bDiy5sYg"
      },
      "source": [
        "### Print the dataframe\n",
        "- print initial 5 rows of the data\n",
        "- use df.head()"
      ]
    },
    {
      "cell_type": "code",
      "metadata": {
        "scrolled": true,
        "id": "ceSlvAVa5sYh",
        "colab": {
          "base_uri": "https://localhost:8080/",
          "height": 195
        },
        "outputId": "c544dd6e-e002-4500-c2b1-fcad2482adb0"
      },
      "source": [
        "df.head()"
      ],
      "execution_count": null,
      "outputs": [
        {
          "output_type": "execute_result",
          "data": {
            "text/html": [
              "<div>\n",
              "<style scoped>\n",
              "    .dataframe tbody tr th:only-of-type {\n",
              "        vertical-align: middle;\n",
              "    }\n",
              "\n",
              "    .dataframe tbody tr th {\n",
              "        vertical-align: top;\n",
              "    }\n",
              "\n",
              "    .dataframe thead th {\n",
              "        text-align: right;\n",
              "    }\n",
              "</style>\n",
              "<table border=\"1\" class=\"dataframe\">\n",
              "  <thead>\n",
              "    <tr style=\"text-align: right;\">\n",
              "      <th></th>\n",
              "      <th>tweet_text</th>\n",
              "      <th>emotion_in_tweet_is_directed_at</th>\n",
              "      <th>is_there_an_emotion_directed_at_a_brand_or_product</th>\n",
              "    </tr>\n",
              "  </thead>\n",
              "  <tbody>\n",
              "    <tr>\n",
              "      <th>0</th>\n",
              "      <td>.@wesley83 I have a 3G iPhone. After 3 hrs twe...</td>\n",
              "      <td>iPhone</td>\n",
              "      <td>Negative emotion</td>\n",
              "    </tr>\n",
              "    <tr>\n",
              "      <th>1</th>\n",
              "      <td>@jessedee Know about @fludapp ? Awesome iPad/i...</td>\n",
              "      <td>iPad or iPhone App</td>\n",
              "      <td>Positive emotion</td>\n",
              "    </tr>\n",
              "    <tr>\n",
              "      <th>2</th>\n",
              "      <td>@swonderlin Can not wait for #iPad 2 also. The...</td>\n",
              "      <td>iPad</td>\n",
              "      <td>Positive emotion</td>\n",
              "    </tr>\n",
              "    <tr>\n",
              "      <th>3</th>\n",
              "      <td>@sxsw I hope this year's festival isn't as cra...</td>\n",
              "      <td>iPad or iPhone App</td>\n",
              "      <td>Negative emotion</td>\n",
              "    </tr>\n",
              "    <tr>\n",
              "      <th>4</th>\n",
              "      <td>@sxtxstate great stuff on Fri #SXSW: Marissa M...</td>\n",
              "      <td>Google</td>\n",
              "      <td>Positive emotion</td>\n",
              "    </tr>\n",
              "  </tbody>\n",
              "</table>\n",
              "</div>"
            ],
            "text/plain": [
              "                                          tweet_text  ... is_there_an_emotion_directed_at_a_brand_or_product\n",
              "0  .@wesley83 I have a 3G iPhone. After 3 hrs twe...  ...                                   Negative emotion\n",
              "1  @jessedee Know about @fludapp ? Awesome iPad/i...  ...                                   Positive emotion\n",
              "2  @swonderlin Can not wait for #iPad 2 also. The...  ...                                   Positive emotion\n",
              "3  @sxsw I hope this year's festival isn't as cra...  ...                                   Negative emotion\n",
              "4  @sxtxstate great stuff on Fri #SXSW: Marissa M...  ...                                   Positive emotion\n",
              "\n",
              "[5 rows x 3 columns]"
            ]
          },
          "metadata": {
            "tags": []
          },
          "execution_count": 39
        }
      ]
    },
    {
      "cell_type": "markdown",
      "metadata": {
        "id": "jcWfPVqG5sYi"
      },
      "source": [
        "## Question 2"
      ]
    },
    {
      "cell_type": "markdown",
      "metadata": {
        "id": "JBbAeip_5sYj"
      },
      "source": [
        "### Preprocess data\n",
        "- convert all text to lowercase - use .lower()\n",
        "- select only numbers, alphabets, and #+_ from text - use re.sub()\n",
        "- strip all the text - use .strip()\n",
        "    - this is for removing extra spaces"
      ]
    },
    {
      "cell_type": "code",
      "metadata": {
        "id": "PE4Bn_YT5sYj"
      },
      "source": [
        "import re\n",
        "df['tweet_text'] = df['tweet_text'].map(lambda s: s.lower())\n",
        "df['tweet_text'] = df['tweet_text'].map(lambda s: re.sub('[^0-9a-z #+_]','',s))"
      ],
      "execution_count": null,
      "outputs": []
    },
    {
      "cell_type": "code",
      "metadata": {
        "id": "tX-F8FBqcE1u"
      },
      "source": [
        "df['tweet_text'] = df['tweet_text'].map(lambda s:s.strip())"
      ],
      "execution_count": null,
      "outputs": []
    },
    {
      "cell_type": "markdown",
      "metadata": {
        "id": "QlMvbtrK5sYl"
      },
      "source": [
        "print dataframe"
      ]
    },
    {
      "cell_type": "code",
      "metadata": {
        "id": "afocjaUn5sYm",
        "colab": {
          "base_uri": "https://localhost:8080/"
        },
        "outputId": "38d4e3ab-9a8a-4e7a-8bd5-547749614316"
      },
      "source": [
        "df['tweet_text'].head()"
      ],
      "execution_count": null,
      "outputs": [
        {
          "output_type": "execute_result",
          "data": {
            "text/plain": [
              "0    wesley83 i have a 3g iphone after 3 hrs tweeti...\n",
              "1    jessedee know about fludapp  awesome ipadiphon...\n",
              "2    swonderlin can not wait for #ipad 2 also they ...\n",
              "3    sxsw i hope this years festival isnt as crashy...\n",
              "4    sxtxstate great stuff on fri #sxsw marissa may...\n",
              "Name: tweet_text, dtype: object"
            ]
          },
          "metadata": {
            "tags": []
          },
          "execution_count": 42
        }
      ]
    },
    {
      "cell_type": "code",
      "metadata": {
        "colab": {
          "base_uri": "https://localhost:8080/",
          "height": 195
        },
        "id": "n_yMnAA_cuAP",
        "outputId": "0090583e-4004-47bf-d4dc-bb77acf3ae66"
      },
      "source": [
        "df.head()"
      ],
      "execution_count": null,
      "outputs": [
        {
          "output_type": "execute_result",
          "data": {
            "text/html": [
              "<div>\n",
              "<style scoped>\n",
              "    .dataframe tbody tr th:only-of-type {\n",
              "        vertical-align: middle;\n",
              "    }\n",
              "\n",
              "    .dataframe tbody tr th {\n",
              "        vertical-align: top;\n",
              "    }\n",
              "\n",
              "    .dataframe thead th {\n",
              "        text-align: right;\n",
              "    }\n",
              "</style>\n",
              "<table border=\"1\" class=\"dataframe\">\n",
              "  <thead>\n",
              "    <tr style=\"text-align: right;\">\n",
              "      <th></th>\n",
              "      <th>tweet_text</th>\n",
              "      <th>emotion_in_tweet_is_directed_at</th>\n",
              "      <th>is_there_an_emotion_directed_at_a_brand_or_product</th>\n",
              "    </tr>\n",
              "  </thead>\n",
              "  <tbody>\n",
              "    <tr>\n",
              "      <th>0</th>\n",
              "      <td>wesley83 i have a 3g iphone after 3 hrs tweeti...</td>\n",
              "      <td>iPhone</td>\n",
              "      <td>Negative emotion</td>\n",
              "    </tr>\n",
              "    <tr>\n",
              "      <th>1</th>\n",
              "      <td>jessedee know about fludapp  awesome ipadiphon...</td>\n",
              "      <td>iPad or iPhone App</td>\n",
              "      <td>Positive emotion</td>\n",
              "    </tr>\n",
              "    <tr>\n",
              "      <th>2</th>\n",
              "      <td>swonderlin can not wait for #ipad 2 also they ...</td>\n",
              "      <td>iPad</td>\n",
              "      <td>Positive emotion</td>\n",
              "    </tr>\n",
              "    <tr>\n",
              "      <th>3</th>\n",
              "      <td>sxsw i hope this years festival isnt as crashy...</td>\n",
              "      <td>iPad or iPhone App</td>\n",
              "      <td>Negative emotion</td>\n",
              "    </tr>\n",
              "    <tr>\n",
              "      <th>4</th>\n",
              "      <td>sxtxstate great stuff on fri #sxsw marissa may...</td>\n",
              "      <td>Google</td>\n",
              "      <td>Positive emotion</td>\n",
              "    </tr>\n",
              "  </tbody>\n",
              "</table>\n",
              "</div>"
            ],
            "text/plain": [
              "                                          tweet_text  ... is_there_an_emotion_directed_at_a_brand_or_product\n",
              "0  wesley83 i have a 3g iphone after 3 hrs tweeti...  ...                                   Negative emotion\n",
              "1  jessedee know about fludapp  awesome ipadiphon...  ...                                   Positive emotion\n",
              "2  swonderlin can not wait for #ipad 2 also they ...  ...                                   Positive emotion\n",
              "3  sxsw i hope this years festival isnt as crashy...  ...                                   Negative emotion\n",
              "4  sxtxstate great stuff on fri #sxsw marissa may...  ...                                   Positive emotion\n",
              "\n",
              "[5 rows x 3 columns]"
            ]
          },
          "metadata": {
            "tags": []
          },
          "execution_count": 43
        }
      ]
    },
    {
      "cell_type": "markdown",
      "metadata": {
        "id": "bcTUnvtg5sYn"
      },
      "source": [
        "## Question 3"
      ]
    },
    {
      "cell_type": "markdown",
      "metadata": {
        "id": "4gnaeSXZ5sYo"
      },
      "source": [
        "### Preprocess data\n",
        "- in column \"is_there_an_emotion_directed_at_a_brand_or_product\"\n",
        "    - select only those rows where value equal to \"positive emotion\" or \"negative emotion\"\n",
        "- find the value counts of \"positive emotion\" and \"negative emotion\""
      ]
    },
    {
      "cell_type": "code",
      "metadata": {
        "id": "nLewJh_35sYp",
        "colab": {
          "base_uri": "https://localhost:8080/"
        },
        "outputId": "bbee2ff5-869e-4edc-aa62-8bb40b44ef09"
      },
      "source": [
        "df[\"is_there_an_emotion_directed_at_a_brand_or_product\"].value_counts()"
      ],
      "execution_count": null,
      "outputs": [
        {
          "output_type": "execute_result",
          "data": {
            "text/plain": [
              "Positive emotion                      2672\n",
              "Negative emotion                       519\n",
              "No emotion toward brand or product      91\n",
              "I can't tell                             9\n",
              "Name: is_there_an_emotion_directed_at_a_brand_or_product, dtype: int64"
            ]
          },
          "metadata": {
            "tags": []
          },
          "execution_count": 44
        }
      ]
    },
    {
      "cell_type": "code",
      "metadata": {
        "id": "3VFYB4eh5sYr"
      },
      "source": [
        "df_new = df[df[\"is_there_an_emotion_directed_at_a_brand_or_product\"].isin(['Positive emotion','Negative emotion'])]"
      ],
      "execution_count": null,
      "outputs": []
    },
    {
      "cell_type": "code",
      "metadata": {
        "colab": {
          "base_uri": "https://localhost:8080/"
        },
        "id": "Ce0c55-ofSYp",
        "outputId": "648d2ba8-de30-4cfc-b02e-2fa8ee8aad84"
      },
      "source": [
        "df_new.shape"
      ],
      "execution_count": null,
      "outputs": [
        {
          "output_type": "execute_result",
          "data": {
            "text/plain": [
              "(3191, 3)"
            ]
          },
          "metadata": {
            "tags": []
          },
          "execution_count": 46
        }
      ]
    },
    {
      "cell_type": "code",
      "metadata": {
        "colab": {
          "base_uri": "https://localhost:8080/"
        },
        "id": "a8s0wVyEfW4a",
        "outputId": "b881805a-2f28-4f51-9a80-afdb8c6744d5"
      },
      "source": [
        "df[\"is_there_an_emotion_directed_at_a_brand_or_product\"].value_counts()"
      ],
      "execution_count": null,
      "outputs": [
        {
          "output_type": "execute_result",
          "data": {
            "text/plain": [
              "Positive emotion                      2672\n",
              "Negative emotion                       519\n",
              "No emotion toward brand or product      91\n",
              "I can't tell                             9\n",
              "Name: is_there_an_emotion_directed_at_a_brand_or_product, dtype: int64"
            ]
          },
          "metadata": {
            "tags": []
          },
          "execution_count": 47
        }
      ]
    },
    {
      "cell_type": "markdown",
      "metadata": {
        "id": "6icGcVTE5sYz"
      },
      "source": [
        "## Question 4"
      ]
    },
    {
      "cell_type": "markdown",
      "metadata": {
        "id": "Rg0rSepj5sYz"
      },
      "source": [
        "### Encode labels\n",
        "- in column \"is_there_an_emotion_directed_at_a_brand_or_product\"\n",
        "    - change \"positive emotion\" to 1\n",
        "    - change \"negative emotion\" to 0\n",
        "- use map function to replace values"
      ]
    },
    {
      "cell_type": "code",
      "metadata": {
        "id": "YftKwFv7H0N9"
      },
      "source": [
        "df_new['is_there_an_emotion_directed_at_a_brand_or_product'] = df_new['is_there_an_emotion_directed_at_a_brand_or_product'].map({'Positive emotion':1,'Negative emotion':0})"
      ],
      "execution_count": null,
      "outputs": []
    },
    {
      "cell_type": "code",
      "metadata": {
        "colab": {
          "base_uri": "https://localhost:8080/"
        },
        "id": "ueitirQhghf5",
        "outputId": "e19fe775-01a6-4f26-eafa-5e486b517bc7"
      },
      "source": [
        "df_new['is_there_an_emotion_directed_at_a_brand_or_product'].value_counts()"
      ],
      "execution_count": null,
      "outputs": [
        {
          "output_type": "execute_result",
          "data": {
            "text/plain": [
              "1    2672\n",
              "0     519\n",
              "Name: is_there_an_emotion_directed_at_a_brand_or_product, dtype: int64"
            ]
          },
          "metadata": {
            "tags": []
          },
          "execution_count": 49
        }
      ]
    },
    {
      "cell_type": "markdown",
      "metadata": {
        "id": "sC1qSe3h5sY2"
      },
      "source": [
        "## Question 5"
      ]
    },
    {
      "cell_type": "markdown",
      "metadata": {
        "id": "aWlAN_Ts5sY2"
      },
      "source": [
        "### Get feature and label\n",
        "- get column \"tweet_text\" as feature\n",
        "- get column \"is_there_an_emotion_directed_at_a_brand_or_product\" as label"
      ]
    },
    {
      "cell_type": "code",
      "metadata": {
        "id": "9A3sOZzR5sY4"
      },
      "source": [
        "X = df_new['tweet_text']\n",
        "y = df_new['is_there_an_emotion_directed_at_a_brand_or_product']"
      ],
      "execution_count": null,
      "outputs": []
    },
    {
      "cell_type": "markdown",
      "metadata": {
        "id": "3YErwYLCH0N_"
      },
      "source": [
        "### Create train and test data\n",
        "- use train_test_split to get train and test set\n",
        "- set a random_state\n",
        "- test_size: 0.25"
      ]
    },
    {
      "cell_type": "code",
      "metadata": {
        "id": "lNkwrGgEH0OA"
      },
      "source": [
        "from sklearn.model_selection import train_test_split\n",
        "X_train, X_test, y_train, y_test = train_test_split(X, y, test_size= .25,random_state=10)"
      ],
      "execution_count": null,
      "outputs": []
    },
    {
      "cell_type": "code",
      "metadata": {
        "colab": {
          "base_uri": "https://localhost:8080/"
        },
        "id": "7oSvlc4ih0wO",
        "outputId": "44b0a74f-fd62-4c32-8a52-cd821285f290"
      },
      "source": [
        "print(X_train.shape, X_test.shape)\n",
        "print(y_train.shape, y_test.shape)"
      ],
      "execution_count": null,
      "outputs": [
        {
          "output_type": "stream",
          "text": [
            "(2393,) (798,)\n",
            "(2393,) (798,)\n"
          ],
          "name": "stdout"
        }
      ]
    },
    {
      "cell_type": "markdown",
      "metadata": {
        "id": "gMok2IX35sY8"
      },
      "source": [
        "## Question 6"
      ]
    },
    {
      "cell_type": "markdown",
      "metadata": {
        "id": "dSqYjPuT5sY8"
      },
      "source": [
        "### Vectorize data\n",
        "- create document-term matrix\n",
        "- use CountVectorizer()\n",
        "    - ngram_range: (1, 2)\n",
        "    - stop_words: 'english'\n",
        "    - min_df: 2   \n",
        "- do fit_transform on X_train\n",
        "- do transform on X_test"
      ]
    },
    {
      "cell_type": "code",
      "metadata": {
        "id": "bb9PnnqT5sY8"
      },
      "source": [
        "from sklearn.feature_extraction.text import CountVectorizer\n",
        "cvect = CountVectorizer(ngram_range= (1,2), stop_words='english',min_df=2)"
      ],
      "execution_count": null,
      "outputs": []
    },
    {
      "cell_type": "code",
      "metadata": {
        "id": "oN20ZABzlNnO"
      },
      "source": [
        "X_train = cvect.fit_transform(X_train)\n",
        "X_test = cvect.transform(X_test)"
      ],
      "execution_count": null,
      "outputs": []
    },
    {
      "cell_type": "markdown",
      "metadata": {
        "id": "qanDXve15sY_"
      },
      "source": [
        "## Question 7"
      ]
    },
    {
      "cell_type": "markdown",
      "metadata": {
        "id": "uMaRNFkV5sY_"
      },
      "source": [
        "### Select classifier logistic regression\n",
        "- use logistic regression for predicting sentiment of the given tweet\n",
        "- initialize classifier"
      ]
    },
    {
      "cell_type": "code",
      "metadata": {
        "id": "GT3dNgB55sZA"
      },
      "source": [
        "from sklearn.linear_model import LogisticRegression\n",
        "lr = LogisticRegression()"
      ],
      "execution_count": null,
      "outputs": []
    },
    {
      "cell_type": "markdown",
      "metadata": {
        "id": "pqQ6_HX35sZD"
      },
      "source": [
        "### Fit the classifer\n",
        "- fit logistic regression classifier"
      ]
    },
    {
      "cell_type": "code",
      "metadata": {
        "id": "EIzvnNkq5sZD",
        "colab": {
          "base_uri": "https://localhost:8080/"
        },
        "outputId": "0ff00e20-bdce-4144-d1b2-6033b4503ab4"
      },
      "source": [
        "lr.fit(X_train,y_train)"
      ],
      "execution_count": null,
      "outputs": [
        {
          "output_type": "execute_result",
          "data": {
            "text/plain": [
              "LogisticRegression(C=1.0, class_weight=None, dual=False, fit_intercept=True,\n",
              "                   intercept_scaling=1, l1_ratio=None, max_iter=100,\n",
              "                   multi_class='auto', n_jobs=None, penalty='l2',\n",
              "                   random_state=None, solver='lbfgs', tol=0.0001, verbose=0,\n",
              "                   warm_start=False)"
            ]
          },
          "metadata": {
            "tags": []
          },
          "execution_count": 56
        }
      ]
    },
    {
      "cell_type": "markdown",
      "metadata": {
        "id": "SZpMsYQF5sZF"
      },
      "source": [
        "## Question 8"
      ]
    },
    {
      "cell_type": "markdown",
      "metadata": {
        "id": "KGnQnUww5sZF"
      },
      "source": [
        "### Select classifier naive bayes\n",
        "- use naive bayes for predicting sentiment of the given tweet\n",
        "- initialize classifier\n",
        "- use MultinomialNB"
      ]
    },
    {
      "cell_type": "code",
      "metadata": {
        "id": "2AbVYssaH0OE"
      },
      "source": [
        "from sklearn.naive_bayes import MultinomialNB\n",
        "nb = MultinomialNB()"
      ],
      "execution_count": null,
      "outputs": []
    },
    {
      "cell_type": "markdown",
      "metadata": {
        "id": "QEaG942m5sZI"
      },
      "source": [
        "### Fit the classifer\n",
        "- fit naive bayes classifier"
      ]
    },
    {
      "cell_type": "code",
      "metadata": {
        "id": "rLwRBj1R5sZI",
        "colab": {
          "base_uri": "https://localhost:8080/"
        },
        "outputId": "dfe664ee-a25f-4c59-8988-4c67bdad0080"
      },
      "source": [
        "nb.fit(X_train,y_train)"
      ],
      "execution_count": null,
      "outputs": [
        {
          "output_type": "execute_result",
          "data": {
            "text/plain": [
              "MultinomialNB(alpha=1.0, class_prior=None, fit_prior=True)"
            ]
          },
          "metadata": {
            "tags": []
          },
          "execution_count": 59
        }
      ]
    },
    {
      "cell_type": "markdown",
      "metadata": {
        "id": "A7mgwYDJ5sZM"
      },
      "source": [
        "## Question 9"
      ]
    },
    {
      "cell_type": "markdown",
      "metadata": {
        "id": "sZkA3tce5sZN"
      },
      "source": [
        "### Make predictions on logistic regression\n",
        "- use your trained logistic regression model to make predictions on X_test"
      ]
    },
    {
      "cell_type": "code",
      "metadata": {
        "id": "l3f0M1ch5sZO"
      },
      "source": [
        "lr_pred = lr.predict(X_test)"
      ],
      "execution_count": null,
      "outputs": []
    },
    {
      "cell_type": "markdown",
      "metadata": {
        "id": "lrIxjMUB5sZQ"
      },
      "source": [
        "### Make predictions on naive bayes\n",
        "- use your trained naive bayes model to make predictions on X_test\n",
        "- use a different variable name to store predictions so that they are kept separately"
      ]
    },
    {
      "cell_type": "code",
      "metadata": {
        "id": "ZSQnwyLU5sZQ"
      },
      "source": [
        "nb_pred = nb.predict(X_test)"
      ],
      "execution_count": null,
      "outputs": []
    },
    {
      "cell_type": "markdown",
      "metadata": {
        "id": "rwXQUE7b5sZS"
      },
      "source": [
        "## Question 10"
      ]
    },
    {
      "cell_type": "markdown",
      "metadata": {
        "id": "E6SITIE75sZT"
      },
      "source": [
        "### Calculate accuracy of logistic regression\n",
        "- check accuracy of logistic regression classifer\n",
        "- use sklearn.metrics.accuracy_score"
      ]
    },
    {
      "cell_type": "code",
      "metadata": {
        "id": "clv2X0kKH0Ok",
        "colab": {
          "base_uri": "https://localhost:8080/"
        },
        "outputId": "cdde1eb3-c1c9-4e97-b529-51ec105c955f"
      },
      "source": [
        "from sklearn.metrics import accuracy_score, classification_report\n",
        "print(\"Logistic Regression Test Accuracy\")\n",
        "print(accuracy_score(y_test, lr_pred))\n",
        "print(\"*\" * 50)\n",
        "print(classification_report(y_test,lr_pred))"
      ],
      "execution_count": null,
      "outputs": [
        {
          "output_type": "stream",
          "text": [
            "Logistic Regression Test Accuracy\n",
            "0.8659147869674185\n",
            "**************************************************\n",
            "              precision    recall  f1-score   support\n",
            "\n",
            "           0       0.76      0.33      0.46       138\n",
            "           1       0.87      0.98      0.92       660\n",
            "\n",
            "    accuracy                           0.87       798\n",
            "   macro avg       0.82      0.65      0.69       798\n",
            "weighted avg       0.85      0.87      0.84       798\n",
            "\n"
          ],
          "name": "stdout"
        }
      ]
    },
    {
      "cell_type": "markdown",
      "metadata": {
        "id": "1Fd_Gnd05sZV"
      },
      "source": [
        "### Calculate accuracy of naive bayes\n",
        "- check accuracy of naive bayes classifer\n",
        "- use sklearn.metrics.accuracy_score"
      ]
    },
    {
      "cell_type": "code",
      "metadata": {
        "id": "d32uBpHi5sZW",
        "colab": {
          "base_uri": "https://localhost:8080/"
        },
        "outputId": "289ada53-61f1-42bb-e342-1f21ecdbdb5b"
      },
      "source": [
        "from sklearn.metrics import accuracy_score, classification_report\n",
        "print(\"Naive Bayes Test Accuracy\")\n",
        "print(accuracy_score(y_test, nb_pred))\n",
        "print(\"*\" * 50)\n",
        "print(classification_report(y_test,nb_pred))"
      ],
      "execution_count": null,
      "outputs": [
        {
          "output_type": "stream",
          "text": [
            "Naive Bayes Test Accuracy\n",
            "0.8571428571428571\n",
            "**************************************************\n",
            "              precision    recall  f1-score   support\n",
            "\n",
            "           0       0.68      0.33      0.45       138\n",
            "           1       0.87      0.97      0.92       660\n",
            "\n",
            "    accuracy                           0.86       798\n",
            "   macro avg       0.78      0.65      0.68       798\n",
            "weighted avg       0.84      0.86      0.84       798\n",
            "\n"
          ],
          "name": "stdout"
        }
      ]
    },
    {
      "cell_type": "code",
      "metadata": {
        "id": "UWFTiFG9MKoW"
      },
      "source": [
        ""
      ],
      "execution_count": null,
      "outputs": []
    },
    {
      "cell_type": "code",
      "metadata": {
        "id": "fFRz85pOZaRg"
      },
      "source": [
        ""
      ],
      "execution_count": null,
      "outputs": []
    }
  ]
}